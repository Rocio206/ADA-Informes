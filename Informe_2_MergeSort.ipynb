{
  "nbformat": 4,
  "nbformat_minor": 0,
  "metadata": {
    "colab": {
      "name": "Informe 2 - MergeSort",
      "provenance": [],
      "collapsed_sections": [],
      "authorship_tag": "ABX9TyOWz1bY5uzfAcpdEkcmboMH",
      "include_colab_link": true
    },
    "kernelspec": {
      "name": "python3",
      "display_name": "Python 3"
    },
    "language_info": {
      "name": "python"
    }
  },
  "cells": [
    {
      "cell_type": "markdown",
      "metadata": {
        "id": "view-in-github",
        "colab_type": "text"
      },
      "source": [
        "<a href=\"https://colab.research.google.com/github/Rocio206/ADA-Informes/blob/main/Informe_2_MergeSort.ipynb\" target=\"_parent\"><img src=\"https://colab.research.google.com/assets/colab-badge.svg\" alt=\"Open In Colab\"/></a>"
      ]
    },
    {
      "cell_type": "markdown",
      "source": [
        "#1. Problema de ordenamiento\n",
        "A lo largo de las decadas se han desarrollado distintas tecnicas para diseñar algoritmos. En esta ocasion veremos un tipo de diseño llamado **divide y vecerás**.\n",
        "El paradigma divide y vencerás consiste en:\n",
        "\n",
        "\n",
        "1.   **Division** del problema en varios subproblemas, similares al problema original pero mas pequeños.\n",
        "2.   **Resolver** los subproblemas de manera **recursiva**, es decir, aplicando el mis algoritmo sobre cada uno de ellos.\n",
        "3.   **Convinar** las soluciones de los subproblemas para asi encontrar la solucion de problema original.\n",
        "\n",
        "\n",
        "#2. MergeSort\n",
        "El algoritmo de ordenamiento MergeSort es un algoritmo recurrente del tipo divide y venceras. Esto quiere decir que trabaja dividiedo el problema en 2 subconjuntos, simplificando el problema hasta que puede ser resuelto directamente, para luego a volver a unirlos de manera ordenada, dando solucion al problema orignal.\n",
        "\n",
        "### 2.1 **¿Como funciona MergeSort?**\n",
        "\n",
        "**Entrada:** Secuencia de n números $[a_1,a_2,...,a_n]$ \n",
        "\n",
        "**Salida**: Permutación ordenada de la secuencia de entrada: $[a_1',a_2',...,a_n']$, de tal manera que $a_1'\\leq a_2' \\leq... \\leq a_n'$.\n",
        "\n",
        "MergeSort puede ser dividido en 2 partes, division (MergeSort) y convinacion (merge).\n",
        "\n",
        "1.   Primero que nada, nos aseguramos de que el arreglo contenga por lo menos 2 elementos, de lo contrario retornamos, pues ya estaria ordenado.\n",
        "2. Calculamos la mitad del arreglo ($arr$) y dividimos en dos sub-arreglos de $n/2$ cada uno. Para ordenadenar los sub-arreglos usamos MergeSort de manera recursiva para seguir dividiendo los arreglos hasta llegar a arreglos de un elemento.\n",
        "\n",
        "![image](https://imgur.com/ppRPkQB.png)\n",
        "\n",
        "3. Durante cada llamada a MergeSort se combinan dos de los sub-arreglos ordenados partiendo desde la parte inferior. Para cada secuencia se comparan los elementos en orden de izquieda a derecha y se van colocando ordenados un tercer arreglo.\n",
        "\n",
        "\n",
        "![image](https://imgur.com/1lhiPyZ.png)\n",
        " \n",
        " ### 2.2  **¿Como funciona Merge?**\n",
        "**Entrada:** Dos secuencias de ordenadas, una de $n$ números y la segunda de $n$ o $n-1$ números.  $[a_1,a_2,...,a_n]$ y  $[b_1,b_2,...,b_n]$.\n",
        "\n",
        "**Salida:** Combinación ordenada de las dos secuencias de entrada  $[c_1,c_2,...,c_n]$, de tal manera que $c_1'\\leq c_2' \\leq... \\leq c'n+n $.\n",
        "\n",
        "La funcion Merge se encarga de combinar dos arreglos ordenados, generando un solo arreglo ordenado. El metodo consiste en los siguiente:\n",
        "\n",
        "\n",
        "1.   Creamos un nuevo arreglo $c$ para colocar los elementos ordenados.\n",
        "2.   Comparamos el primer elemento de cada sub-arreglo ($a[0], b[0]$) y agregamos el menor al final del arreglo $c$. Eliminamos el elemento del sub-arreglo original y repetimos hasta alguno de los sub-arreglos quede vacío.\n",
        "3.   Copiamos el contenido del sub-arreglo restante directamente al final de $c$.\n"
      ],
      "metadata": {
        "id": "FFVMCMjKWZy1"
      }
    },
    {
      "cell_type": "markdown",
      "source": [
        "#3. Implementación\n",
        "\n",
        "###3.1 Función Merge\n",
        "El siguiente código muestra una implementación de la función **Merge**."
      ],
      "metadata": {
        "id": "xpomBVPUoT3r"
      }
    },
    {
      "cell_type": "code",
      "execution_count": null,
      "metadata": {
        "id": "odSNlzCyoNCR"
      },
      "outputs": [],
      "source": [
        "def merge(a, b):\n",
        "  c = []\n",
        "  t = 0 #contador de comparaciones \n",
        "  while len(a) > 0 and len(b) > 0:\n",
        "    if a[0] < b[0]:\n",
        "      c.append (a[0])\n",
        "      a.pop(0)\n",
        "    else: \n",
        "      c.append (b[0])\n",
        "      b.pop(0)\n",
        "    t += 1\n",
        "      \n",
        "  if len(a) == 0:   #Se copian el contenido del sub-arreglo restante directamente en c\n",
        "      c += b\n",
        "  else:\n",
        "      c += a\n",
        "  \n",
        "  return c , t\n",
        "  "
      ]
    },
    {
      "cell_type": "markdown",
      "source": [
        "###3.2 Función MergeSort **(verbose=True)**\n",
        "En el siguiente codigo se implementa el algoritmo MergeSort junto con la función **verbose** que permite ver lo que sucede con el arreglo, recurción a recurción."
      ],
      "metadata": {
        "id": "01jnidfWuMyn"
      }
    },
    {
      "cell_type": "code",
      "source": [
        "def merge(a, b , t, r ):\n",
        "  c = []\n",
        " #contador de comparaciones \n",
        "  while len(a) > 0 and len(b) > 0:\n",
        "    t += 1\n",
        "    if a[0] < b[0]:\n",
        "      c.append (a[0])\n",
        "      a.pop(0)\n",
        "    else: \n",
        "      c.append (b[0])\n",
        "      b.pop(0)\n",
        "      \n",
        "  if len(a) == 0:\n",
        "      c += b\n",
        "  else:\n",
        "      c += a\n",
        "  return c , t , r\n",
        "\n",
        "def mergeSort(arr, r, verbose=True):\n",
        "  r+=1  \n",
        "\n",
        "  if verbose==True and r > 1 : \n",
        "    print()\n",
        "    print(\"Recursion #\", r-1 )\n",
        "    print(arr)\n",
        "    \n",
        "  if len(arr) < 2: return arr , 0, r #comprobamos que el arreglo tenga por lo menos 2 elementos\n",
        "  else:\n",
        "    mid = len(arr) // 2\n",
        "    right , t1, r= mergeSort(arr[:mid] , r)\n",
        "\n",
        "    if verbose ==True and t1>0 :\n",
        "      print(right)\n",
        "\n",
        "    left , t2 , r= mergeSort(arr[mid:] , r)\n",
        "\n",
        "    if verbose ==True and t2>0:\n",
        "       print(left)\n",
        "    print(\"Se ordenan:\", right,\"y\",left)\n",
        "\n",
        "    return merge(right, left, t1+t2, r)\n",
        "  \n",
        "## Ejemplo\n",
        "A = [8,7,6,5,4,3]\n",
        "print(\"Entrada :\" ,A)\n",
        "A , t, r = mergeSort(A, 0) \n",
        "print()\n",
        "print(\"Salida :\",A)\n",
        "print(\"# Comparaciones:\" ,t )\n",
        "print(\"# Recurciones: \", r-1)\n"
      ],
      "metadata": {
        "colab": {
          "base_uri": "https://localhost:8080/"
        },
        "id": "K2LIcx3At_hW",
        "outputId": "5675eaa3-16e4-47ee-af4e-1a3356af505b"
      },
      "execution_count": 6,
      "outputs": [
        {
          "output_type": "stream",
          "name": "stdout",
          "text": [
            "Entrada : [8, 7, 6, 5, 4, 3]\n",
            "\n",
            "Recursion # 1\n",
            "[8, 7, 6]\n",
            "\n",
            "Recursion # 2\n",
            "[8]\n",
            "\n",
            "Recursion # 3\n",
            "[7, 6]\n",
            "\n",
            "Recursion # 4\n",
            "[7]\n",
            "\n",
            "Recursion # 5\n",
            "[6]\n",
            "Se ordenan: [7] y [6]\n",
            "[6, 7]\n",
            "Se ordenan: [8] y [6, 7]\n",
            "[6, 7, 8]\n",
            "\n",
            "Recursion # 6\n",
            "[5, 4, 3]\n",
            "\n",
            "Recursion # 7\n",
            "[5]\n",
            "\n",
            "Recursion # 8\n",
            "[4, 3]\n",
            "\n",
            "Recursion # 9\n",
            "[4]\n",
            "\n",
            "Recursion # 10\n",
            "[3]\n",
            "Se ordenan: [4] y [3]\n",
            "[3, 4]\n",
            "Se ordenan: [5] y [3, 4]\n",
            "[3, 4, 5]\n",
            "Se ordenan: [6, 7, 8] y [3, 4, 5]\n",
            "\n",
            "Salida : [3, 4, 5, 6, 7, 8]\n",
            "# Comparaciones: 9\n",
            "# Recurciones:  10\n"
          ]
        }
      ]
    },
    {
      "cell_type": "markdown",
      "source": [
        "#4. Correctitud \n",
        "\n",
        "##4.1 Funcion Merge\n",
        "\n",
        "####**Teorema (correctitud)**\n",
        "La funcion **Merge** genera un solo arreglo: $[c_1',c_2',...,c_n']$, con el contenido de los sub-arreglos de entrada ordenadados de menor a mayor, es decir,$c_1'\\leq c_2' \\leq... \\leq c_n'$.\n",
        "####Prueba del teorema \n",
        "Como se pudo observar en el ejemplo previo en cada iteración del bucle de la funcion Merge se compara el primer elemento del sub-arreglo $a[0]$ con el primer elemento del sub-arreglo $b[0]$ (ambos arreglos ordenados), se agregar el menor al final de arreglo $c$ y por ultimo, se elimina el elemento su arreglo original. Cuando uno de los arreglos queda vacio, c se concatena con el sub-arreglo restante.\n",
        "\n",
        "Por lo que probaremos la siguiente **propiedad invariante de bucle** para la funcion Merge:\n",
        "\n",
        "> Al comienzo de cada iteración $i$, el arreglo $c$ esta ordenado y el ultimo elemento de $c$ es menor que los primeros elementos de $a$ y $b$, es decir, $a[0] > c[-1]$ , $b[0] > c[-1]$. \n",
        "\n",
        "**Inicializacion**\n",
        "\n",
        "En la primera iteracion ($i=1$), a $c$ aun no contiene ningun elemento por lo que se cumple trivialmente la propiedad.\n",
        "\n",
        "**Mantencion**\n",
        "\n",
        "Como en cada iteración se agrega el menor elemento entre $a[0]$ y $b[0]$ al final de c y se elimina del sub-arreglo correspondiente. Es muy obvio que al comienzo de la iteracion ($i=m$) se mantiene la propiedad.\n",
        "\n",
        "**Correctitud**\n",
        "\n",
        "Finalmente, como la propiedad es cumple al inicio y se mantiene durante cada iteracion. Cuando finalmente uno de los sub-arreglos este vacio, entonces c = [c+array_restante], contiene los elementos de $a$ y $b$ ordenados de menor a mayor. Por lo tanto, la funcion **Merge es correcta**.\n",
        "\n",
        "##4.2 MergeSort (correctitud)\n",
        "\n",
        "####**Teorema (correctitud)**\n",
        "El algoritmo **MergeSort** genera un arreglo: $[a_1',a_2',...,a_n']$, con los mismos elementos del arreglo de entrada ordenados de menor a mayor, es decir, $a_1'\\leq a_2' \\leq... \\leq a_n'$.\n",
        "\n",
        "####Prueba del teorema\n",
        "Como **MergeSort** es un algoritmo recursivio usaremos **inducción matematica** por lo que probaremos la siguiente hipótesis:\n",
        "\n",
        "> Hipótesis $P(n)$: MergeSort retorna un arreglo con la secuencia de $n$ elementos de entrada ordenados de menor a mayor.\n",
        "\n",
        "**Caso base:** Cuando $n=1$, MergeSort retorna el único elemento, por lo que se cumple $P(1)$.\n",
        "\n",
        "**Paso inductivo:** Para $n$ elementos, se divide el arreglo en dos sub-arreglos de tamaño $m=n/2$, y se ordenan usando Mergesort. Como el tamaño de los sub-arreglos es menor a $n$, con el paso inductivo asumimos que son ordenados correctamente. Luego, se combinan los dos sub-arreglos usando Merge. Como ya sabemos, Merge retorna un arreglo ordenado con los mismos elementos de los sub-arreglos, por lo tanto **MergeSort es correcto**.\n",
        "\n",
        "\n"
      ],
      "metadata": {
        "id": "Lp700hc-haAJ"
      }
    },
    {
      "cell_type": "markdown",
      "source": [
        "#5. Experimentos \n",
        "\n",
        "## 5.1. Número de comparaciones (realizadas por la función Merge)\n",
        "\n",
        "A continuación se muestra gráficamente una comparación entre:\n",
        "\n",
        "* cantidad de comparaciones del peor caso calculadas matemáticamente.((n-1)log(n))\n",
        "* cantidad de comparaciones del mejor caso calculadas matemáticamente (Cuando los menores elementos se precipitan en una de las mitades del arreglos y estan ordendaos)\n",
        "* cantidad de comparaciones realizadas experimentalmente para entradas aleatorias\n",
        "\n",
        "para tamaños de problemas con $n \\in [5,19]$.\n",
        "\n",
        "Los arreglos de entrada son generados aleatoriamente haciendo un sampling de un conjunto de números entre 1 y 100."
      ],
      "metadata": {
        "id": "mh9oGOSFPnAW"
      }
    },
    {
      "cell_type": "code",
      "source": [
        "import random\n",
        "import math\n",
        "import matplotlib.pyplot as plt\n",
        "\n",
        "def merge(a, b, t ):\n",
        "  c = [] \n",
        "  while len(a) > 0 and len(b) > 0:\n",
        "    t += 1                      #contador de comparaciones \n",
        "    if a[0] < b[0]:          \n",
        "      c.append (a[0])\n",
        "      a.pop(0)\n",
        "    else: \n",
        "      c.append (b[0])\n",
        "      b.pop(0)\n",
        "   \n",
        "  if len(a) == 0:  # agrego los elementos del arreglo que me queda al final de c\n",
        "    c += b\n",
        "  else: \n",
        "    c += a\n",
        "  return c , t\n",
        "\n",
        "def mergeSort(arr):\n",
        "  if len(arr) < 2: return arr , 0\n",
        "  else:\n",
        "    mid = len(arr) // 2\n",
        "    right, t1= mergeSort(arr[:mid])\n",
        "    left, t2= mergeSort(arr[mid:])\n",
        "    return merge(right, left, t1+t2)\n",
        "\n",
        "\n",
        "x=[n for n in range(5,20)] \n",
        "y1=[(n-1)*math.log2(n)  for n in range(5,20)] # worst case\n",
        "y2=[(n/2)*math.log2(n)  for n in range(5,20)] # best case\n",
        "y=[]; \n",
        "\n",
        "for n in range(5,20):\n",
        "  a = random.sample(range(1, 100), n)\n",
        "  a, counter = mergeSort(a)\n",
        "  y.append(counter)\n",
        "\n",
        "plt.plot(x,y)\n",
        "plt.plot(x,y1)\n",
        "plt.plot(x,y2)\n",
        "plt.legend([\"MergeSort\", \"theoretical worst case\", \"theoretical best case\"])\n",
        "\n",
        "plt.xlabel('n')\n",
        "plt.ylabel('number of comparations')\n",
        "plt.show()"
      ],
      "metadata": {
        "colab": {
          "base_uri": "https://localhost:8080/",
          "height": 279
        },
        "id": "hcGZ_pNobh7V",
        "outputId": "43d5a2c8-5b19-4efe-e2fb-3289037cae8b"
      },
      "execution_count": 11,
      "outputs": [
        {
          "output_type": "display_data",
          "data": {
            "text/plain": [
              "<Figure size 432x288 with 1 Axes>"
            ],
            "image/png": "[encoded data removed]"
          },
          "metadata": {
            "needs_background": "light"
          }
        }
      ]
    },
    {
      "cell_type": "markdown",
      "source": [
        "\n",
        "###Analisis de resultados\n",
        "Podemos observar como el numero de comparaciones realizadas se comporta de forma lineal en funcion al tamaño del problema en tanto en peor como en el mejor caso teorico. A pesar de esto si observamos sus pendiente notaremos que el mejor caso en mas rapido.\n",
        "El caso empírico se mueve entre el mejor y el peor caso teorico sin una tendencia definida.\n",
        "\n",
        "\n",
        "### 5.2 Tiempo de ejecucion\n",
        "####**Grafico compararativo MergeSort vs InsertionSort**\n",
        "El siguiente gráfico muestra tiempo de ejecución del algoritmo **MergeSort **comparado al de el de **InsertionSort**, en función del tamaño del problema para arreglos generados aleatoriamente de tamaños entre  5 y 500 .\n",
        "\n"
      ],
      "metadata": {
        "id": "XjAL7PlHKb3S"
      }
    },
    {
      "cell_type": "code",
      "source": [
        "import matplotlib.pyplot as plt\n",
        "import datetime\n",
        "from timeit import repeat\n",
        "import random\n",
        "\n",
        "def insertionSort(a, verbose=False):\n",
        "  n = len(a)\n",
        "  T = 0\n",
        "  if verbose == True: print(\"Entrada del arreglo:\",a)\n",
        "  for i in range(1,n):\n",
        "    actual = a[i]\n",
        "    j = i\n",
        "    # nos desplazamos por el arreglo hasta la posicion correcta para el elemento actual\n",
        "    while j > 0  and a[j-1] > actual:\n",
        "      a[j] = a[j-1]\n",
        "      j-= 1\n",
        "      T+=1 \n",
        "    if j != 0 : T+=1\n",
        "    a[j] = actual\n",
        "  return a, T\n",
        "\n",
        "def merge(a, b, t ):\n",
        "  c = [] \n",
        "  while len(a) > 0 and len(b) > 0:\n",
        "    t += 1                      #contador de comparaciones \n",
        "    if a[0] < b[0]:          \n",
        "      c.append (a[0])\n",
        "      a.pop(0)\n",
        "    else: \n",
        "      c.append (b[0])\n",
        "      b.pop(0)\n",
        "   \n",
        "  if len(a) == 0:  # agrego los elementos del arreglo que me queda al final de c\n",
        "    c += b\n",
        "  else: \n",
        "    c += a\n",
        "  return c , t\n",
        "\n",
        "def mergeSort(arr):\n",
        "  if len(arr) < 2: return arr , 0\n",
        "  else:\n",
        "    mid = len(arr) // 2\n",
        "    right, t1= mergeSort(arr[:mid])\n",
        "    left, t2= mergeSort(arr[mid:])\n",
        "    return merge(right, left, t1+t2)\n",
        "\n",
        "x=[]; y=[]; y2=[]\n",
        "\n",
        "for n in range(5,500):\n",
        "\n",
        "  a = random.sample(range(1, 1000), n)\n",
        "\n",
        "  #la función repeat está ejecutando 20 veces bubble_sort con el arreglo a y retorna el mejor tiepo obtenido.\n",
        "  t = repeat(setup=\"from __main__ import mergeSort\", stmt=f\"mergeSort({a})\", repeat=1, number=10)\n",
        "  t2 = repeat(setup=\"from __main__ import insertionSort\", stmt=f\"insertionSort({a})\", repeat=1, number=10)\n",
        "\n",
        "  x.append(n)\n",
        "  y.append(t)\n",
        "  y2.append(t2)\n",
        "\n",
        "\n",
        "plt.plot(x,y)\n",
        "plt.plot(x,y2)\n",
        "plt.legend([\"MergeSort\",\"InsertionSort\"])\n",
        "\n",
        "plt.xlabel('n')\n",
        "plt.ylabel('time in ms')\n",
        "plt.show()"
      ],
      "metadata": {
        "colab": {
          "base_uri": "https://localhost:8080/",
          "height": 280
        },
        "id": "Q29RnGb9Ka7b",
        "outputId": "b7e359b2-0cd7-449d-b77e-3dbf815da18f"
      },
      "execution_count": 2,
      "outputs": [
        {
          "output_type": "display_data",
          "data": {
            "text/plain": [
              "<Figure size 432x288 with 1 Axes>"
            ],
            "image/png": "[encoded data removed]"
          },
          "metadata": {
            "needs_background": "light"
          }
        }
      ]
    },
    {
      "cell_type": "markdown",
      "source": [
        "### Analisis de resultados \n",
        "Si observamos los resultados obtenidos queda en evidencia la gran diferencia en el tiempo de ejecución de estos dos algoritmos, siendo MergeSort (conplejidad $O(n log(n)$) el mas rápido por mucho."
      ],
      "metadata": {
        "id": "AtCC8akOfe3r"
      }
    }
  ]
}