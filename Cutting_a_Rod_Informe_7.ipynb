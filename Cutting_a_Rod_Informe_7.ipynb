{
  "nbformat": 4,
  "nbformat_minor": 0,
  "metadata": {
    "colab": {
      "provenance": [],
      "collapsed_sections": [],
      "authorship_tag": "ABX9TyN8z4Dsee1aVEVw43eKX9jB",
      "include_colab_link": true
    },
    "kernelspec": {
      "name": "python3",
      "display_name": "Python 3"
    },
    "language_info": {
      "name": "python"
    }
  },
  "cells": [
    {
      "cell_type": "markdown",
      "metadata": {
        "id": "view-in-github",
        "colab_type": "text"
      },
      "source": [
        "<a href=\"https://colab.research.google.com/github/Rocio206/ADA-Informes/blob/main/Cutting_a_Rod_Informe_7.ipynb\" target=\"_parent\"><img src=\"https://colab.research.google.com/assets/colab-badge.svg\" alt=\"Open In Colab\"/></a>"
      ]
    },
    {
      "cell_type": "markdown",
      "source": [
        "#**Cutting a Rod**\n",
        "##**1. Descripción del problema**\n",
        "\n",
        "**Entrada**: Largo de varilla $n$, vector de precios por cada medida $p[1..n]$\n",
        "\n",
        "**Salida**:  **Retorno máximo** $r_n$ que se puede obtener cortando la varilla y vendiendo las partes.\n",
        "\n",
        "El enunciado del problema es bastante simple, dada una varilla de cierta longitud $n$ y el precio asociado con cada pieza de la varilla, la varilla debe cortarse y venderse. El proceso de corte debe ser tal que la **cantidad obtenida de la venta es máximo**. También dado, la cantidad es diferente para diferentes tamaños.\n",
        "\n",
        "Dado que el valor buscado es un **maximo**, podemos decir que nos encontramos ante un **problema de optimización**.\n",
        "\n",
        "####**Subestructura óptima:**\n",
        "Cualquier solución óptima (aparte de la solución que no hace cortes) para una varilla de longitud $n > 2$ debe incluir el resultado de al menos un subproblema: una pieza de $n-i > 1$. Lo que es lo mismo que decir que la **solución óptima al problema original incorpora soluciones óptimas a los subproblemas, que pueden resolverse de forma independiente**.\n",
        "\n",
        "Para cualquier longitud de varilla $n$, podemos determinar el valor maximo de venta $r_n$ tomando el máximo de:\n",
        "\n",
        "*   $p_n$ : el precio que obtenemos al no hacer un corte\n",
        "*   $r_1 + r$<sub>$n−1$</sub> : el valor maximo de venta de una varilla de largo 1 y una de $n -1$.\n",
        "\n",
        "*   $r_2 + r$<sub>$n−2$</sub> : el valor maximo de venta de una varilla de largo 2 y una de $n -2$.\n",
        "*   ...\n",
        "*   $r$<sub>$n−1$</sub>$+ r_1$\n",
        "\n",
        "[![Captura-de-pantalla-2022-10-03-203747.png](https://i.postimg.cc/wBrCfYCB/Captura-de-pantalla-2022-10-03-203747.png)]\n",
        "\n",
        "Entonces, $r_n = max ( p_n $,  $r_1 + r$<sub>$n−1$</sub> , $r_2 + r$<sub>$n−2$</sub>  , .... $r$<sub>$n−1$</sub>$+ r_1$ )\n",
        "\n",
        "Podemos simplificar esta ecuación dejando dos subproblemas, considerando que una solucion optima consiste en una primera pieza de longitud $i$ y una varilla de longitud $n - i$ cortada de forma optima.\n",
        "\n",
        " >$r_n=max(p_i+r$<sub>$n−i$</sub>$)$, donde $1≤i≤n$"
      ],
      "metadata": {
        "id": "Al_N6sos-iLv"
      }
    },
    {
      "cell_type": "markdown",
      "source": [
        "##**2. Solución Recursiva  (fuerza bruta)**\n",
        "\n",
        "###**2.1 Implementación**\n",
        "\n",
        "En el código a continuación se implementa la solución recursiva para el problema de **Cutting a Rod**. \n",
        "\n",
        "Además de el retorno máximo posible, tambien retornar los cortes necesarios la cantidad de llamadas recursivas que realiza el algoritmo."
      ],
      "metadata": {
        "id": "oVdg5akg3whi"
      }
    },
    {
      "cell_type": "code",
      "execution_count": null,
      "metadata": {
        "colab": {
          "base_uri": "https://localhost:8080/"
        },
        "id": "OlOmWn8J-atl",
        "outputId": "d5df8c73-2ef0-4279-c29d-fed6a95f9313"
      },
      "outputs": [
        {
          "output_type": "stream",
          "name": "stdout",
          "text": [
            "Tabla de precios: [1, 5, 8, 9, 10, 17, 17, 20, 24, 30]\n",
            "\n",
            "Maxima ganancia para una varilla de longitud 5 es 13 ,\n",
            "fueron necesarios 1 cortes y se realizaron 31 recurciones.\n",
            "\n",
            "Maxima ganancia para una varilla de longitud 2 es 5 ,\n",
            "fueron necesarios 0 cortes y se realizaron 3 recurciones.\n",
            "\n",
            "Maxima ganancia para una varilla de longitud 5 es 13 ,\n",
            "fueron necesarios 1 cortes y se realizaron 31 recurciones.\n",
            "\n",
            "Maxima ganancia para una varilla de longitud 7 es 18 ,\n",
            "fueron necesarios 0 cortes y se realizaron 127 recurciones.\n",
            "\n"
          ]
        }
      ],
      "source": [
        "from math import inf\n",
        "import random\n",
        "\n",
        "def CutRod(p,n,r):\n",
        "  r+= 1\n",
        "  c = -1\n",
        "  if n == 0:\n",
        "    return 0, 0, r\n",
        "\n",
        "  q = -inf\n",
        "  for i in range(1, n+1):\n",
        "    m, c2, r = CutRod(p, n-i, r)\n",
        "\n",
        "    if q < p[i-1]+ m:\n",
        "      q = p[i-1]+ m\n",
        "      if i <= n //2:\n",
        "        c += 1\n",
        "      else :\n",
        "        c = n - i\n",
        "\n",
        "  return q, c, r \n",
        "\n",
        "## EJEMPLO\n",
        "p = [1,5,8,9,10,17,17,20,24,30]\n",
        "n = 8\n",
        "m, c, r = CutRod(p, n , -1)\n",
        "\n",
        "print(\"Tabla de precios:\",p)\n",
        "print()\n",
        "\n",
        "for i in range(1,5):\n",
        "  n = random.randint(1,10)\n",
        "  m, c, r = CutRod(p, n , -1)\n",
        " \n",
        "  print(\"Maxima ganancia para una varilla de longitud\", n ,\"es\", m,\",\")\n",
        "  print(\"fueron necesarios\", c,\"cortes y se realizaron\", r,\"recurciones.\")\n",
        "  print()\n"
      ]
    },
    {
      "cell_type": "markdown",
      "source": [
        "###**2.2 Descripción del Algoritmo**\n",
        "\n",
        "El algoritmo recibe como entrada en arreglo $p$ que contiene los precios de las varillas por longitud y un entero $n$ que corresponde al largo de nuestra varilla.\n",
        "\n",
        "Teniendo en cuenta que para una varilla de longitud $n$, como hacemos $n-1$ cortes, hay 2<sup>n-1</sup> formas de cortar la varilla.\n",
        "\n",
        "Durante cada iteración $i$, para una varilla de longitud $n$ se divide en una parte de longitud $i$ que tiene precio $p[i]$ y se calcula el maximo valor posible del resto de la varilla de longitud $n-i$ aplicado recursivamente función.\n",
        "\n",
        "\n",
        "####**Ejemplo**\n",
        "\n",
        "Supongamos que tenemos un problema de tamaño 4:\n",
        "\n",
        ">2<sup>n-1</sup> = 2<sup>3</sup> = 8 formas de cortar la varilla.\n",
        "\n",
        "\n",
        "[![Captura-de-pantalla-2022-10-03-203552.png](https://i.postimg.cc/c1zS9wNm/Captura-de-pantalla-2022-10-03-203552.png)]\n",
        "\n",
        "> Se puede ver gráficamente como un árbol donde cada raíz es una una solución:\n",
        "\n",
        "[![Captura-de-pantalla-2022-09-30-093308.png](https://i.postimg.cc/MGK1d1ZD/Captura-de-pantalla-2022-09-30-093308.png)]\n",
        "\n",
        "Podemos ver que funciona pero **es ineficiente**, ya que el algoritmo llama a sí mismo repetidamente sobre subproblemas que ya ha resuelto.\n"
      ],
      "metadata": {
        "id": "slaRjSbHRdtL"
      }
    },
    {
      "cell_type": "markdown",
      "source": [
        "#**3. Solución con Programación Dinámica (Bottom-up)**\n",
        "\n",
        "###**3.1 Implementación**\n",
        "\n",
        "En el código a continuación se implementa la solución con **programación dínamica** para el problema de **Cutting a Rod**. \n",
        "\n",
        "Además de el retorno máximo posible, tambien retornar los cortes necesarios la **cantidad de subproblemas** que fue necesario resolver para encontrar la solución óptima.\n",
        "\n",
        "Tambien se implemanta la función `verbose`, que nos permite ver lo que sucede en al algoritmo paso a paso."
      ],
      "metadata": {
        "id": "9-dsfj2uQzQR"
      }
    },
    {
      "cell_type": "code",
      "source": [
        "from math import inf\n",
        "import random\n",
        "\n",
        "def CutRodPD(p, n, verbose=True):\n",
        "  r = [0] * (n+1)\n",
        "  cuts = [0] * (n+1)\n",
        "  r[0] = 0\n",
        "  s = 0\n",
        "  if verbose==True: print(\"Para una varilla de tamaño\", n,\"se resuelven solo siguientes subproblemas\")\n",
        "  for j in range(1, n+1):\n",
        "    q = -inf\n",
        "    c = 0\n",
        "    s+= 1\n",
        "    for i in range(1,j+1):\n",
        "      s+= 1\n",
        "      if q < p[i-1] + r[j-i] :\n",
        "        q = p[i-1] + r[j-i]\n",
        "        if j-i == 0 :\n",
        "          c = 0\n",
        "        else: \n",
        "          c = cuts[j-i] + 1\n",
        "      \n",
        "    if verbose==True: print(\"r[\",j,\"]\", \"=\", q, \"fueron necesarios\", c, \"cortes.\")\n",
        "    cuts[j] = c  \n",
        "    r[j] = q\n",
        "  return r[n], cuts[n], s\n",
        "\n",
        "\n",
        "#ejemplo\n",
        "\n",
        "p = [1,5,8,9,10,17,17,20,24,30]\n",
        "print(\"Tabla de precios:\",p)\n",
        "print()\n",
        "\n",
        "for i in range(3):\n",
        "  n = random.randint(1,10)\n",
        "  m, c , s = CutRodPD(p, n)\n",
        "  print()\n",
        "  print(\"Maxima ganancia para una varilla de longitud\", n ,\"es\", m,\",\")\n",
        "  print(\"fueron necesarios\", c,\"cortes y\",s,\"subploblemas fueron resueltos\")\n",
        "  print()\n",
        "\n",
        "print()\n",
        "\n"
      ],
      "metadata": {
        "colab": {
          "base_uri": "https://localhost:8080/"
        },
        "id": "_nHe0eZCHxmZ",
        "outputId": "59561ab2-c833-48e8-e176-11042263e036"
      },
      "execution_count": 14,
      "outputs": [
        {
          "output_type": "stream",
          "name": "stdout",
          "text": [
            "Tabla de precios: [1, 5, 8, 9, 10, 17, 17, 20, 24, 30]\n",
            "\n",
            "Para una varilla de tamaño 1 se resuelven lo siguiente subproblemas\n",
            "r[ 1 ] = 1 fueron necesarios 0 cortes.\n",
            "\n",
            "Maxima ganancia para una varilla de longitud 1 es 1 ,\n",
            "fueron necesarios 0 cortes y 2 subploblemas fueron resueltos\n",
            "\n",
            "Para una varilla de tamaño 10 se resuelven lo siguiente subproblemas\n",
            "r[ 1 ] = 1 fueron necesarios 0 cortes.\n",
            "r[ 2 ] = 5 fueron necesarios 0 cortes.\n",
            "r[ 3 ] = 8 fueron necesarios 0 cortes.\n",
            "r[ 4 ] = 10 fueron necesarios 1 cortes.\n",
            "r[ 5 ] = 13 fueron necesarios 1 cortes.\n",
            "r[ 6 ] = 17 fueron necesarios 0 cortes.\n",
            "r[ 7 ] = 18 fueron necesarios 1 cortes.\n",
            "r[ 8 ] = 22 fueron necesarios 1 cortes.\n",
            "r[ 9 ] = 25 fueron necesarios 1 cortes.\n",
            "r[ 10 ] = 30 fueron necesarios 0 cortes.\n",
            "\n",
            "Maxima ganancia para una varilla de longitud 10 es 30 ,\n",
            "fueron necesarios 0 cortes y 65 subploblemas fueron resueltos\n",
            "\n",
            "Para una varilla de tamaño 10 se resuelven lo siguiente subproblemas\n",
            "r[ 1 ] = 1 fueron necesarios 0 cortes.\n",
            "r[ 2 ] = 5 fueron necesarios 0 cortes.\n",
            "r[ 3 ] = 8 fueron necesarios 0 cortes.\n",
            "r[ 4 ] = 10 fueron necesarios 1 cortes.\n",
            "r[ 5 ] = 13 fueron necesarios 1 cortes.\n",
            "r[ 6 ] = 17 fueron necesarios 0 cortes.\n",
            "r[ 7 ] = 18 fueron necesarios 1 cortes.\n",
            "r[ 8 ] = 22 fueron necesarios 1 cortes.\n",
            "r[ 9 ] = 25 fueron necesarios 1 cortes.\n",
            "r[ 10 ] = 30 fueron necesarios 0 cortes.\n",
            "\n",
            "Maxima ganancia para una varilla de longitud 10 es 30 ,\n",
            "fueron necesarios 0 cortes y 65 subploblemas fueron resueltos\n",
            "\n",
            "\n"
          ]
        }
      ]
    },
    {
      "cell_type": "markdown",
      "source": [
        "###**3.1 Descripcion del algoritmo**\n",
        "\n",
        "El problema reside en que en que deben resolver todos los posibles casos, incluso cuando ya fueron resueltos con anterioridad, por no que su tiempo de ejecución es de $O(2^n)$.\n",
        "\n",
        "Para estos tipos de problemas donde las soluciones se repiten varias veces, la implementar programación dinámica es especialmente eficaz. Además de que se muy usado en problemas de optimización \n",
        "\n",
        "> **Resolución por programación dinámica:** Resuelve los problemas solo una vez y guarda el resultado en un arreglo para usarlos cuando sean necesarios nuevamente.\n",
        "\n",
        "###**3.2 Correctitud del algoritmo**\n",
        " \n",
        "Podemos probar que el algoritmo es correcto usando **inducción**:\n",
        "\n",
        ">**Caso base:** El valor de una varilla de largo 0 es 0. \n",
        "\n",
        ">Y si asumimos que el algoritmo es correcto para los subproblemas mas pequeños $r[j-i]$, tenemos el valor del maximo ingreso para varillas de largo $< j$ y el precio de venta de la primera pieza $p_i$. Y de la mano a la ecuación de subestructura optima probamos que el **algoritmo es correcto**.\n",
        "\n",
        " >$r_n=max(p_i+r$<sub>$n−i$</sub>$)$, donde $1≤i≤n$"
      ],
      "metadata": {
        "id": "A-_ubhg3Zf0L"
      }
    },
    {
      "cell_type": "markdown",
      "source": [
        "#**4. Analisis del tiempo de ejecución**\n",
        "###**4.1 Solucion recursiva**\n",
        "\n",
        "Sea $T(n) =$ el numero de llamadas recursivas para cualquier $n$.\n",
        "\n",
        "*   $T(0)=1$\n",
        "*   $T(n)=1+\\sum\\limits_{j=0}^{n-1}T(j)$.\n",
        " \n",
        ">**Solución:** $T(n)=2^n$, la complejidad temporal es exponencial con respecto al tamaño del problema.\n",
        "\n",
        "**Complejidad espacial:**\n",
        ">$O(1)$, no utiliza espacio extra.\n",
        "\n",
        "###**4.2 Solucion con Programción Dínamica**\n",
        "\n",
        "Para el tiempo de ejecucion este algorimo, tenemos un doble loop anidado, y el numero de iteraciones del loop interior forma una progresion aritmetica.\n",
        "\n",
        "> T(n) = $T(n-1) + T(n-2) +…..+T(1) + 1$.\n",
        "\n",
        "**Es decir:**\n",
        "\n",
        "*   $T(1)=1$\n",
        "*   $T(2) = T(1) + 1= 2$\n",
        "*   $T(3) = T(2) + T(1)+ 1 = 2 + 1 + 1$\n",
        "*   $T(n) = n + n-1 + n-2 + …$ es una progresión aritmética\n",
        "\n",
        "> $T(n)=n+\\sum\\limits_{i=1}^{n-1}n-i$.\n",
        "\n",
        "**Solución:** $O(n^2)$\n",
        "\n",
        "\n",
        "**Tiempo de ejecución de cada subproblema:**\n",
        "> Cada subproblema se resuelve en $n-i$ comparaciones.\n",
        "\n",
        "**Complejidad espacial:**\n",
        "  \n",
        "> $O(n)$ correspondiente al espacio por el arreglo $r[0...n]$.\n",
        "\n"
      ],
      "metadata": {
        "id": "eZypkw0_JW1l"
      }
    },
    {
      "cell_type": "markdown",
      "source": [
        "#5. Experimentación"
      ],
      "metadata": {
        "id": "nNehJdr_5Lth"
      }
    }
  ]
}