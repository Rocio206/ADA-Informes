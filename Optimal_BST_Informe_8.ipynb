{
  "nbformat": 4,
  "nbformat_minor": 0,
  "metadata": {
    "colab": {
      "provenance": [],
      "collapsed_sections": [],
      "authorship_tag": "ABX9TyO144MToBSgppjc4BXte6sn",
      "include_colab_link": true
    },
    "kernelspec": {
      "name": "python3",
      "display_name": "Python 3"
    },
    "language_info": {
      "name": "python"
    }
  },
  "cells": [
    {
      "cell_type": "markdown",
      "metadata": {
        "id": "view-in-github",
        "colab_type": "text"
      },
      "source": [
        "<a href=\"https://colab.research.google.com/github/Rocio206/ADA-Informes/blob/main/Optimal_BST_Informe_8.ipynb\" target=\"_parent\"><img src=\"https://colab.research.google.com/assets/colab-badge.svg\" alt=\"Open In Colab\"/></a>"
      ]
    },
    {
      "cell_type": "markdown",
      "source": [
        "#**1. Descripcion del problema**\n",
        "El arbol binario de busqueda (BST) es una estructura de datos no lineal que se utiliza en muchas aplicaciones cientificas para reducir el tiempo de busqueda. En un BST, el hijo izquierdo es el elemento mas pequeño y el hijo derecho el el mayor elemento. Esta disposición siplifica el procedimento de busqueda.\n",
        "\n",
        "El **árbol binario de busqueda optimo (OBST)** extiende esta idea, aplicando la **probabilidad o frecuencia de busqueda** del elemento como prioridad al ordenar. De modo que **los elementos buscados con mas frecuencia se almacenan mas cerca de la raiz.**\n",
        "\n",
        "\n",
        "**Entrada**: Secuencia ordenada de n claves: $K=\\left<k_1,k_2,...,k_n\\right>$. Cada clave $k_i$ tiene una probabilidad $p_i$ de ser buscada. Existen **claves ficticias $d_i$** que representan **búsquedas fallidas** con $k_{i-1} \\leq d_i \\leq k_i$. Cada clave $d_i$ tiene una probabilidad $q_i$ de ser buscada. La suma de probabilidades debe ser uno, es decir: $\\sum\\limits_{i=1}^n p_i + \\sum\\limits_{j=0}^n q_i = 1$\n",
        "\n",
        "**Salida**: Construir un **árbol de búsqueda óptimo**, es decir, un árbol que **minimice la cantidad esperada de nodos visitados (costo esperado)**.\n",
        "\n",
        "#**2. Descripcion del algoritmo**\n",
        "\n",
        "El objetivo es contruir un arbol que minimice el costo total de busqueda. No pretende conseguir un altura minima y tampoco es necasario que el padre del subarbol sea mayor que sus hijos.\n",
        "\n",
        "Considere la secuencia de $n$ claves $K = [ k_1, k_2, k_3, …, k_n]$ de distinta probabilidad en orden ordenado tal que $k_1< k_2< … < k_n $. Los elementos entre cada par de claves conducen a una **búsqueda fallida**, por lo que para $n$ claves, el árbol de búsqueda binaria contiene $n + 1$ claves ficticias $d_i$, que representan búsquedas fallidas.\n",
        "\n",
        "El coste corresponde al promedio de nodos que se debe visitar en una búsqueda. El coste de cada clave tiene directa relación con su nivel en el árbol.\n",
        "\n",
        "**Coste por busqueda para un nodo $i$ esta dado por**: \n",
        "\n",
        ">$cost(k_i) = depth(k_i)+1$\n",
        " \n",
        "**Y el coste de la busqueda en un BST (funcion que buscamos minimizar) se define:**  \n",
        "\n",
        ">$\\sum\\limits_{i=1}^n (depth(k_i)+1)p_i$\n",
        "\n"
      ],
      "metadata": {
        "id": "6a2yb0vodFsK"
      }
    },
    {
      "cell_type": "markdown",
      "source": [
        "***Ejemplo:***\n",
        "Las valores de las claves y sus frecuencias:\n",
        "\n",
        "**Keys = [10, 12, 20]**\n",
        "\n",
        "**Frecuencia = [34, 8, 50]**\n",
        "\n",
        "> **Estos serian algunos de los posibles BST para esta secuencia de valores:**\n",
        "\n",
        "![image](https://www.tutorialspoint.com/assets/questions/media/9929/bst.jpg)\n",
        "\n",
        "\n",
        "\n",
        "*   **Caso 1**, el coste es: $(34*1) + (8*2) + (50*3) = 200$\n",
        "\n",
        "*   **Caso 2**, el coste es:$(8*1) + (34*2) + (50*2) = 176$\n",
        "\n",
        "*   **Caso 3**, el coste es:$(50*1) + (8*2) + (34*3) = 168$\n",
        "\n",
        "*   **Caso 4**, el coste es:$(34*1) + (50*2) + (8*3) = 158$\n",
        "\n",
        "*   **Caso 5**, el coste es:$(50*1) + (34*2) + (8*3) = 142$ ***(minimo)***\n"
      ],
      "metadata": {
        "id": "2L4XHv6gIGLx"
      }
    },
    {
      "cell_type": "markdown",
      "source": [
        "##3. Implementación solucion recurciva\n"
      ],
      "metadata": {
        "id": "kOjDlxEVVyGk"
      }
    },
    {
      "cell_type": "code",
      "execution_count": null,
      "metadata": {
        "id": "MjVss7CO2Ipv",
        "colab": {
          "base_uri": "https://localhost:8080/"
        },
        "outputId": "c3ee9743-6290-417f-e588-a782a5630c60"
      },
      "outputs": [
        {
          "output_type": "stream",
          "name": "stdout",
          "text": [
            "Entrada:\n",
            "Las valores de las claves y sus frecuencias.\n",
            "Keys = [10, 12, 20]\n",
            "Frecuencia = [34, 8, 50] \n",
            "\n",
            "Salida:\n",
            "Costo minimo del BST es  142\n",
            "Se realizaron 14 recurciones\n"
          ]
        }
      ],
      "source": [
        "from math import inf\n",
        "\n",
        "def optBST(p, f, i, j, rc):\n",
        "  rc+=1\n",
        "  if j < i :\n",
        "    return 0, rc\n",
        "  if j == i:\n",
        "    return f[i] , rc\n",
        "  \n",
        "  fsum = 0\n",
        "  for k in range(i,j+1):\n",
        "    fsum += f[k]\n",
        "  \n",
        "  min = inf\n",
        "\n",
        "  for r in range(i,j+1):\n",
        "    min_1 , rc= optBST(p, f,i, r-1, rc)\n",
        "    min_2 , rc=  optBST(p, f, r+1, j, rc)\n",
        "    \n",
        "    cost = min_1 + min_2\n",
        "    if cost < min:\n",
        "      min = cost\n",
        "  return min + fsum, rc\n",
        "\n",
        "#ejemplo<\n",
        "print(\"Entrada:\")\n",
        "print(\"Las valores de las claves y sus frecuencias.\")\n",
        "keys = [10, 12, 20]\n",
        "freq = [34, 8, 50]\n",
        "print(\"Keys =\", keys)\n",
        "print(\"Frecuencia =\", freq,\"\\n\")\n",
        "\n",
        "n = len(keys)\n",
        "min, r = optBST(keys, freq,0, n-1,-1)\n",
        "print(\"Salida:\")\n",
        "print(\"Costo minimo del BST es \", min)\n",
        "print(\"Se realizaron\", r , \"recurciones\")"
      ]
    },
    {
      "cell_type": "markdown",
      "source": [
        "## Implementacion solucion por Programacion dinamica (Bottom-up)"
      ],
      "metadata": {
        "id": "tdacHo-Dd8_y"
      }
    },
    {
      "cell_type": "code",
      "source": [
        "from math import inf\n",
        "\n",
        "def BST_bottomUp(p, f, n):\n",
        "\n",
        "  cost = [[0 for x in range(n)] for y in range(n)]\n",
        "\n",
        "\n",
        "  for c in range(0, n):\n",
        "    cost[c][c]= f[c]\n",
        "\n",
        "  for L in range(2, n+1):\n",
        "    for i in range(n - L +1):\n",
        "      j = i + L - 1\n",
        "\n",
        "      cost[i][j] = inf\n",
        "      \n",
        "      for r in range(i, j+1):\n",
        "        c = 0\n",
        "        if r > i: c+= cost[i][r-1]\n",
        "\n",
        "        if r < j: c+= cost[r+1][j]\n",
        "\n",
        "        fsum = 0\n",
        "        for k in range(i, j+1):\n",
        "          fsum += f[k]\n",
        "\n",
        "        c+= fsum\n",
        "        if c < cost[i][j]: cost[i][j] = c\n",
        "\n",
        "  return cost[0][n-1]\n",
        "\n",
        "#Ejemplo\n",
        "keys = [69, 10, 12, 20, 10]\n",
        "freq = [0.25, 0.20, 0.05, 0.20, 0.30]\n",
        "\n",
        "n = len(keys)\n",
        "print(\"Cost of Optimal BST is\", BST_bottomUp(keys, freq, n))"
      ],
      "metadata": {
        "colab": {
          "base_uri": "https://localhost:8080/"
        },
        "id": "6erN21fFtqtm",
        "outputId": "c17b2abc-07eb-4e21-e1a2-68bc7281712a"
      },
      "execution_count": null,
      "outputs": [
        {
          "output_type": "stream",
          "name": "stdout",
          "text": [
            "Cost of Optimal BST is 2.1\n"
          ]
        }
      ]
    },
    {
      "cell_type": "markdown",
      "source": [
        "`visualize=True`"
      ],
      "metadata": {
        "id": "oOho_oNich1I"
      }
    },
    {
      "cell_type": "code",
      "source": [
        "from math import inf\n",
        "import random  \n",
        "import networkx as nx\n",
        "import pydot\n",
        "from networkx.drawing.nx_pydot import graphviz_layout\n",
        "\n",
        "def optBST(p, f, i, j, rc, visualize=True):\n",
        "  rc+=1\n",
        "\n",
        "  if j < i :\n",
        "    return 0, rc\n",
        "  if j == i:\n",
        "    return f[i] , rc\n",
        "  \n",
        "  fsum = 0\n",
        "  for k in range(i,j+1):\n",
        "    fsum += f[k]\n",
        "  \n",
        "  min = inf\n",
        "\n",
        "  for r in range(i,j+1):\n",
        "    min_1 , rc= optBST(p, f,i, r-1, rc)\n",
        "    min_2 , rc=  optBST(p, f, r+1, j, rc)\n",
        "    \n",
        "    cost = min_1 + min_2\n",
        "    if cost < min:\n",
        "      if visualize==True or verbose==True:\n",
        "      min = cost\n",
        "\n",
        "  if visualize==True:\n",
        "    G = nx.DiGraph()\n",
        "\n",
        "  \n",
        "  return min + fsum, rc\n",
        "\n",
        "#ejemplo<\n",
        "print(\"Entrada:\")\n",
        "keys = [10, 12, 20]\n",
        "freq = [34, 8, 50]\n",
        "print(\"Keys =\", keys)\n",
        "print(\"Frecuencia =\", freq,\"\\n\")\n",
        "\n",
        "n = len(keys)\n",
        "min, r = optBST(keys, freq,0, n-1,-1)\n",
        "print(\"Salida:\")\n",
        "print(\"Costo minimo del  OBST es \", min)\n",
        "print(\"Se realizaron\", r , \"recurciones\")"
      ],
      "metadata": {
        "colab": {
          "base_uri": "https://localhost:8080/",
          "height": 445
        },
        "id": "jek-ueuFcqbJ",
        "outputId": "32c3e5c5-b642-49b8-bc00-9b15deade345"
      },
      "execution_count": null,
      "outputs": [
        {
          "output_type": "stream",
          "name": "stdout",
          "text": [
            "Entrada:\n",
            "Keys = [10, 12, 20]\n",
            "Frecuencia = [34, 8, 50] \n",
            "\n",
            "Salida:\n",
            "Costo minimo del  OBST es  142\n",
            "Se realizaron 14 recurciones\n"
          ]
        },
        {
          "output_type": "display_data",
          "data": {
            "text/plain": [
              "<Figure size 432x288 with 1 Axes>"
            ],
            "image/png": "[encoded data removed]"
          },
          "metadata": {}
        }
      ]
    },
    {
      "cell_type": "code",
      "source": [
        "from math import inf\n",
        "\n",
        "def BST_bottomUp(p, f, n):\n",
        "\n",
        "  cost = [[0 for x in range(n)] for y in range(n)]\n",
        "  root = [[0 for x in range(n)] for y in range(n)]\n",
        "\n",
        "  for c in range(0, n):\n",
        "    cost[c][c]= f[c]\n",
        "\n",
        "  for L in range(2, n+1):\n",
        "    for i in range(n - L +1):\n",
        "      j = i + L - 1\n",
        "\n",
        "      cost[i][j] = inf\n",
        "      \n",
        "      for r in range(i, j+1):\n",
        "        c = 0\n",
        "        if r > i: c+= cost[i][r-1]\n",
        "\n",
        "        if r < j: c+= cost[r+1][j]\n",
        "\n",
        "        fsum = 0\n",
        "        for k in range(i, j+1):\n",
        "          fsum += f[k]\n",
        "\n",
        "        c+= fsum\n",
        "        if c < cost[i][j]:\n",
        "          cost[i][j] = c\n",
        "          root[i][j] = r\n",
        "\n",
        "  print(root)\n",
        "  rec\n",
        "  print(cost)\n",
        "\n",
        "  return cost[0][n-1]\n",
        "\n",
        "#Ejemplo\n",
        "keys = [10, 12, 20]\n",
        "freq = [34, 8, 50]\n",
        "\n",
        "n = len(keys)\n",
        "print(\"Cost of Optimal BST is\", BST_bottomUp(keys, freq, n))"
      ],
      "metadata": {
        "colab": {
          "base_uri": "https://localhost:8080/"
        },
        "id": "6Rw2lo0hxJZB",
        "outputId": "c9244786-2d4d-4b83-e77e-fa5a4293c444"
      },
      "execution_count": null,
      "outputs": [
        {
          "output_type": "stream",
          "name": "stdout",
          "text": [
            "[[0, 0, 2], [0, 0, 2], [0, 0, 0]]\n",
            "[[34, 50, 142], [0, 8, 66], [0, 0, 50]]\n",
            "Cost of Optimal BST is 142\n"
          ]
        }
      ]
    },
    {
      "cell_type": "markdown",
      "source": [
        "###**Subestructura optima**\n",
        "\n",
        "1. **Definicion de los subproblemas:** Sea $1 \\leq i \\leq j \\leq n$, y T cualquier BST en $i,...,j$. definimos el coste de T:\n",
        "\n",
        "> $C(T) = \\sum\\limits_{l=i}^j (depth_T(l)+1)p_i$\n",
        "\n",
        "y los subproblemas \n",
        "\n",
        "> $C_{ij} = min(C(T))$\n",
        "\n",
        "el tiempo esperado de busqueda para un BST optimo es $C_{ln}$\n",
        "\n",
        "\n",
        "2.  **Funcion de recurencia**: Sunpongamos que la raiz de $T$ en $i,...,j$ es $k$. El costo de $T$ es:\n",
        "\n",
        "$C(T) = \\sum\\limits_{l=i}^j (depth_T(l)+1)p_l$\n",
        "\n",
        "$= \\sum\\limits_{l=i}^k-1 (depth_{Tl}(l)+1 +1)p_l + p_k +\\sum\\limits_{l=k+1}^j (depth_{Tr}(l)+1+1)p_l$\n",
        " \n",
        "$ = C(T_l) + C(T_r) + \\sum\\limits_{l=i}^k-1 p_l$\n",
        "\n",
        "y asi definimos la **funcion de recurrencia** $C'_{ij}$:\n",
        "\n",
        "$C'_{ij}= \\begin{cases}\n",
        "  min_{i \\leq k \\leq j}(C'_{i,k-1} C'_{k+1,j}) \\sum\\limits_{l=i}^j p_l &\\text{ si  } i < j \\\\\n",
        "  p_i &\\text{ si } i = j \\\\\n",
        "  0 &\\text{ si } i > j\n",
        "\\end{cases}$\n",
        "\n",
        "\n",
        "\n",
        "Tenemos que si G es un arbol de busqueda optimo, entonces los subarboles a la izquierda y derecha de la raiz deben ser arboles de busqueda optimos de $(p_1,...,p_{r-1})$ y $(p_{r+1},...,p_n)$ respetivamente. La prueba de esto es que si no lo fueran, entonces G no seria un arbol de busqueda optimo en primer lugar.\n",
        "\n",
        "Para cada posible raiz $p_r$ para $i \\leq  r \\leq j$, crea un subarbol optimo para $(p_1,...,p_{r-1}$ y $(p_{r+1},...,p_n)$ y selecciona la raiz con el mejor resultado.\n",
        "\n",
        "Minimizando todas las opciones posibles para la raíz, obtenemos el\n",
        "siguiente relación de recurrencia.\n",
        "\n",
        "> Sea $c[i,j] = cost(p_i,...,p_j)$ entonces:\n",
        "\n",
        "$c[i,j] =(\\sum\\limits_{k=i}^j p_k) + min(c[i,r-1] + c[r+1,j])$ ; con $i \\leq r\\leq j$, \n",
        "donde $c[i,i-1] = c[j+1,j] = 0$ es el costo de un subarbol vacio.\n",
        "\n",
        "**Correctitud**\n",
        "\n",
        "> $c[i,j] = c'[i,j]$\n",
        "\n",
        "Prueba por induccion en $j-i$. El casos base es trivial.\n",
        "\n",
        "Caso inductivo: $c[i,j] \\leq c'[i,j]$. sea $c'[i,j]$ es el costo de un BST en $i,...j$ y $c[i,j]$ el costo para un BST optimo.\n",
        "\n",
        "###**Correctitud algoritmo bottom-up**\n"
      ],
      "metadata": {
        "id": "ZhOaUh07um_1"
      }
    },
    {
      "cell_type": "markdown",
      "source": [
        "#4. Analisis del tiempo de ejecucion\n",
        "\n",
        "\n",
        "\n",
        "####**Solucion Bottom-up (programacion dinamica):**\n",
        "\n",
        "Tiempo de ejecucion\n",
        "\n",
        "En la solución por acercaminto bottom-up, se creamos un tabla de tamaño $n*n$ para guardar las soluciones de los subproblemas que iremos resolviendo:\n",
        "\n",
        "> \n",
        "\n",
        "El \n",
        "\n",
        "\n",
        "\n",
        "\n",
        "\n",
        "\n",
        "\n"
      ],
      "metadata": {
        "id": "LwiYPmurv2iM"
      }
    }
  ]
}