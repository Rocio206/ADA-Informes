{
  "nbformat": 4,
  "nbformat_minor": 0,
  "metadata": {
    "colab": {
      "provenance": [],
      "collapsed_sections": [],
      "authorship_tag": "ABX9TyNAhEt9NcuBVPWFTwn1+dRn",
      "include_colab_link": true
    },
    "kernelspec": {
      "name": "python3",
      "display_name": "Python 3"
    },
    "language_info": {
      "name": "python"
    }
  },
  "cells": [
    {
      "cell_type": "markdown",
      "metadata": {
        "id": "view-in-github",
        "colab_type": "text"
      },
      "source": [
        "<a href=\"https://colab.research.google.com/github/Rocio206/ADA-Informes/blob/main/0_1_Knapsack_Informe_10.ipynb\" target=\"_parent\"><img src=\"https://colab.research.google.com/assets/colab-badge.svg\" alt=\"Open In Colab\"/></a>"
      ]
    },
    {
      "cell_type": "markdown",
      "source": [
        "#1. Descripción del problema\n",
        "\n",
        "**Entrada:** Numero de alticulosCapacidad de la mochila $W$, vector de precios  $v[1...n]$ y vector de peso $w[1...n]$ de cada artículo \n",
        "\n",
        "**Salida:** Maximo valor total de los objetos que puede cargar un mochila de capacidad $W$.\n",
        "\n",
        "El problema de la mochila nos propone la una situación en la que debemos llenar una mochila de capacidad $W$ con todo o parte de un conjunto de objetos $x_i$, cada uno con un peso $w_i$ y un valor $v_i$. **Nuestro objetivo es maximizar el valor total, sin exceder la capacidad de la mochila.**\n",
        "\n",
        "Existen distintas versiones de este problema. En esta versión (0-1) solo se permite la posicibilidad de llevar **un solo ejemplar** de cada artículo y, a diferencia de la versión fraccional donde podemos dividir el objeto como queramos y llevarlo en partes, los objetos que decidamos cargar son indivisibles.\n",
        "\n",
        "Ya que estamos ante un **problema de optimización**, podemos definir nuestra función objetivo para un conjunto de $n$ artículos como:\n",
        "\n",
        "> $max(\\sum\\limits_{i=1}^n  v_i)$ sujeto a $\\sum\\limits_{i=1}^n  w_i \\leq W$\n",
        "\n",
        "\n",
        "Al resolver usando fuerza bruta se prueba todas las posibles soluciones. Ya que para cada objeto **tenemos la posibilidad de incluirlo o no:**\n",
        "\n",
        "> **Tiempo de ejecución:** $O(2^n)$"
      ],
      "metadata": {
        "id": "5T7ePUVtKpJ9"
      }
    },
    {
      "cell_type": "markdown",
      "source": [
        "#2. Solución con programación dinámica (bottom-up)\n",
        "\n",
        "###2.1 Subestructura óptima \n",
        " \n",
        "Supongamos que sabemos que un elemento de peso $w$ está en la solución. Entonces debemos resolver el subproblema para $n - 1$ artículos con peso máximo $W−w$. Por lo tanto, para adoptar un enfoque **bottom-up** debemos resolver el problema para **todos los artículos y posibles pesos menores que W**. Construiremos una **tabla de valores** $V$ de $n + 1$ por $W+1$ donde las filas están indexadas por artículo y las columnas están indexadas por peso total. La primera fila y columna de la tabla será una fila ficticia, ya que si no tienes artículos, no puedes conseguir ningún valor y si el tamaño de tu mochila es cero, no puedes llevar ningún artículo.\n",
        "\n",
        "**Para V[i,w], decidimos si deberíamos o no incluir el artículo i comparando ambas situaciones:**\n",
        "\n",
        "**No incluir:** El valor total de una mochila que incluye entre 1 a i-1 artículos con peso máximo w.\n",
        "\n",
        "**Incluir:** (solo es posible si $w ≥ w_i$) el valor total de una mochila que incluye entre 1 a $i-1$ artículos con peso máximo $w - w_i$. Donde ganamos el valor de $v_i$, pero perdemos $w_i$ de capacidad en la mochila.\n",
        "\n",
        "**Obteniendo la siguiente función:**\n",
        "\n",
        ">$V[i,w] = max(V[i-1,w], V[i - 1, w - w_i] + v_i)$"
      ],
      "metadata": {
        "id": "dCfVFojz3JS1"
      }
    },
    {
      "cell_type": "markdown",
      "source": [
        "###2.2 implementacion"
      ],
      "metadata": {
        "id": "QZ3dVDgt8DdN"
      }
    },
    {
      "cell_type": "code",
      "execution_count": null,
      "metadata": {
        "id": "qUq2_HUrJjZz",
        "colab": {
          "base_uri": "https://localhost:8080/"
        },
        "outputId": "a1c9fcc4-730c-49cc-8d22-3f5f59c84bc8"
      },
      "outputs": [
        {
          "output_type": "stream",
          "name": "stdout",
          "text": [
            "Capacidad de la mochila: 10\n",
            "Valores : [10, 65, 50, 80, 60]\n",
            "Pesos : [3, 1, 7, 6, 8] \n",
            "\n",
            "Si consideramos 0 articulos :\n",
            "Maximo valor obtenido para una mochila de tamaño 10 : 0\n",
            "[0, 0, 0, 0, 0, 0, 0, 0, 0, 0, 0]\n",
            "[0, 0, 0, 0, 0, 0, 0, 0, 0, 0, 0]\n",
            "[0, 0, 0, 0, 0, 0, 0, 0, 0, 0, 0]\n",
            "[0, 0, 0, 0, 0, 0, 0, 0, 0, 0, 0]\n",
            "[0, 0, 0, 0, 0, 0, 0, 0, 0, 0, 0]\n",
            "[0, 0, 0, 0, 0, 0, 0, 0, 0, 0, 0]\n",
            "\n",
            "Si consideramos 1 articulos :\n",
            "Maximo valor obtenido para una mochila de tamaño 10 : 10\n",
            "[0, 0, 0, 0, 0, 0, 0, 0, 0, 0, 0]\n",
            "[0, 0, 0, 10, 10, 10, 10, 10, 10, 10, 10]\n",
            "[0, 0, 0, 0, 0, 0, 0, 0, 0, 0, 0]\n",
            "[0, 0, 0, 0, 0, 0, 0, 0, 0, 0, 0]\n",
            "[0, 0, 0, 0, 0, 0, 0, 0, 0, 0, 0]\n",
            "[0, 0, 0, 0, 0, 0, 0, 0, 0, 0, 0]\n",
            "\n",
            "Si consideramos 2 articulos :\n",
            "Maximo valor obtenido para una mochila de tamaño 10 : 75\n",
            "[0, 0, 0, 0, 0, 0, 0, 0, 0, 0, 0]\n",
            "[0, 0, 0, 10, 10, 10, 10, 10, 10, 10, 10]\n",
            "[0, 65, 65, 65, 75, 75, 75, 75, 75, 75, 75]\n",
            "[0, 0, 0, 0, 0, 0, 0, 0, 0, 0, 0]\n",
            "[0, 0, 0, 0, 0, 0, 0, 0, 0, 0, 0]\n",
            "[0, 0, 0, 0, 0, 0, 0, 0, 0, 0, 0]\n",
            "\n",
            "Si consideramos 3 articulos :\n",
            "Maximo valor obtenido para una mochila de tamaño 10 : 115\n",
            "[0, 0, 0, 0, 0, 0, 0, 0, 0, 0, 0]\n",
            "[0, 0, 0, 10, 10, 10, 10, 10, 10, 10, 10]\n",
            "[0, 65, 65, 65, 75, 75, 75, 75, 75, 75, 75]\n",
            "[0, 65, 65, 65, 75, 75, 75, 75, 115, 115, 115]\n",
            "[0, 0, 0, 0, 0, 0, 0, 0, 0, 0, 0]\n",
            "[0, 0, 0, 0, 0, 0, 0, 0, 0, 0, 0]\n",
            "\n",
            "Si consideramos 4 articulos :\n",
            "Maximo valor obtenido para una mochila de tamaño 10 : 155\n",
            "[0, 0, 0, 0, 0, 0, 0, 0, 0, 0, 0]\n",
            "[0, 0, 0, 10, 10, 10, 10, 10, 10, 10, 10]\n",
            "[0, 65, 65, 65, 75, 75, 75, 75, 75, 75, 75]\n",
            "[0, 65, 65, 65, 75, 75, 75, 75, 115, 115, 115]\n",
            "[0, 65, 65, 65, 75, 75, 80, 145, 145, 145, 155]\n",
            "[0, 0, 0, 0, 0, 0, 0, 0, 0, 0, 0]\n",
            "\n",
            "Si consideramos 5 articulos :\n",
            "Maximo valor obtenido para una mochila de tamaño 10 : 155\n",
            "[0, 0, 0, 0, 0, 0, 0, 0, 0, 0, 0]\n",
            "[0, 0, 0, 10, 10, 10, 10, 10, 10, 10, 10]\n",
            "[0, 65, 65, 65, 75, 75, 75, 75, 75, 75, 75]\n",
            "[0, 65, 65, 65, 75, 75, 75, 75, 115, 115, 115]\n",
            "[0, 65, 65, 65, 75, 75, 80, 145, 145, 145, 155]\n",
            "[0, 65, 65, 65, 75, 75, 80, 145, 145, 145, 155]\n",
            "\n",
            "Maximo valor obtenido para una mochila de tamaño 10 : 155\n",
            "# Subproblemas: 72\n"
          ]
        }
      ],
      "source": [
        "import random\n",
        "\n",
        "def  mostar_tabla(T, n):\n",
        "  for i in range(n+1):\n",
        "    if len(T[i]) > 0:\n",
        "      print(T[i])\n",
        "  print()\n",
        "\n",
        "def knapSack_DP(W, wt, val,sp, verbose = True):\n",
        "  n = len(val)\n",
        "  V = [[0 for x in range(W + 1)] for x in range(n + 1)]\n",
        "    \n",
        "  # Contruimos la tabla de valores V[][]\n",
        "  for i in range(n + 1):\n",
        "    sp+=1\n",
        "    for w in range(W + 1):\n",
        "      sp+=1\n",
        "      if i == 0 or w == 0:\n",
        "        V[i][w] = 0\n",
        "      elif wt[i-1] <= w:\n",
        "        V[i][w] = max(val[i-1] + V[i-1][w-wt[i-1]],  V[i-1][w])\n",
        "      else:\n",
        "        V[i][w] = V[i-1][w]\n",
        "\n",
        "    if verbose == True:\n",
        "      print(\"Si consideramos\", i,\"articulos :\")\n",
        "      print(\"Maximo valor obtenido para una mochila de tamaño\",W,\":\", V[i][w])\n",
        "      mostar_tabla(V, n)\n",
        "  \n",
        "  return V[n][W],sp\n",
        "  \n",
        "#Ejemplo\n",
        "val = random.sample(range(10,100,5), 5)\n",
        "wt = random.sample(range(1,10), 5)\n",
        "W = 10\n",
        "\n",
        "print(\"Capacidad de la mochila:\", W)\n",
        "print(\"Valores :\",val)\n",
        "print(\"Pesos :\",wt, \"\\n\")\n",
        "\n",
        "max_val, sp = knapSack_DP(W, wt, val,0)\n",
        "print(\"Maximo valor obtenido para una mochila de tamaño\",W,\":\", max_val)\n",
        "print(\"# Subproblemas:\",sp)"
      ]
    },
    {
      "cell_type": "markdown",
      "source": [
        "###2.3  Correctitud\n",
        "\n",
        "Probaremos la correctitud del algoritmo usando el **método inductivo**:\n",
        "\n",
        "**Sea $[i,w] < [i',w']$ si $i < i'$  o ($i = i'$  y  $w < w'$). Por ejemplo:**\n",
        "\n",
        "\n",
        "*   $(0, 0) < (0, 1) < (0, 2) < ... < (1,0) < (1, 1) < ...$\n",
        "\n",
        ">**Hipótesis:** El algoritmo es correcto para todos lo valores de $V[i,w]$ donde $(i,w) < (i',w')$. O en otras palabras, todos los elementos anteriores en la tabla son correctos.\n",
        "\n",
        "\n",
        "> **Caso base:** $V[i,0] = V[0,w] = 0$ para todo $i,w$\n",
        "\n",
        "\n",
        "> **Paso inductivo:** Cuando calculamos $V[i',w']$, por inducción tenemos que $V[i'-1, w']$, $V[i' − 1, w' − w_{i'}]$ ya fueron calculados correctamente. Entonces el algoritmo considera el valor óptimo con el artículo $i$ **incluído** en la mochila como $V[i'-1, w'- w_{i'}] + v_{i'}$ , y con el artículo $i$ **no incluído** en la mochila como $V[i'-1, w']$. Y es por esto que el valor de $V[i',w']$ es correcto."
      ],
      "metadata": {
        "id": "dJnQeH_V4fPg"
      }
    },
    {
      "cell_type": "markdown",
      "source": [
        "###2.4 Complejidad\n",
        "Podemos saber el tiempo de ejecución del algoritmo si nos fijamos en sus bucles for anidados.\n",
        "\n",
        "> **Complejidad temporal:** $O(nW)$. Donde $n$ es le número de artículo y W es la capacidad de la mochila.\n",
        "\n",
        "\n",
        "\n",
        "> **Complejidad espacial:** $O(nW)$. Donde $n$ es le número de artículos y W es la capacidad de la mochila. Este es el espacio que necesita la tabla de valores $V$."
      ],
      "metadata": {
        "id": "WxZaAtIgNlXS"
      }
    },
    {
      "cell_type": "markdown",
      "source": [
        "#3. Solucion Greedy \n",
        "\n",
        "Un **algoritmo greedy** para un problema de optimizacion siempre toma la que parece la **mejor opcion en ese momento** y la añade a la solucion actual. \n",
        "Cuando las deciciones que tomamos pueden consecuencias negativas en deciciones futuras es cuando es metodo greedy falla, ya que las **deciciones que tomamos son definitivas.** \n",
        "\n",
        "\n",
        "###3.1 Descripcion del algoritmo\n",
        "\n",
        "La idea basica de la solucion greedy para le problema de la mochila es calcular la razon de $valor/peso$ de cada articulo $x_i = v_i/w_i$, y ordenarlos en base a esta relacion. Entonces se iran agregando a la mochila los articulos con mayor $x_i$ hasta que no podamos agregar el siguiente articulo.\n",
        "\n",
        "**Funcion objetivo:**\n",
        "\n",
        "> $max(\\sum\\limits_{i=1}^n p_i*x_i)$ sujeto a $\\sum\\limits_{i=1}^n  w_i \\leq W$\n",
        "\n"
      ],
      "metadata": {
        "id": "YkVynabImN49"
      }
    },
    {
      "cell_type": "markdown",
      "source": [
        "###3.2 Implementación\n",
        "\n"
      ],
      "metadata": {
        "id": "AXwcVGUxURy-"
      }
    },
    {
      "cell_type": "code",
      "source": [
        "import random\n",
        "\n",
        "def knapSack_Greedy(W, wt, val,it ,verbose = True):\n",
        "  n = len(val)\n",
        "  index = list(range(n))\n",
        "  #x contiene lo valores valor/peso \n",
        "  x = [round(v/w ,2) for v, w in zip(val, wt)]\n",
        "  print(\"Creamos un arreglo x que contiene lo valores valor/peso\")\n",
        "  print(\"x =\",x, \"\\n\")\n",
        "    # index esta ordenado de acuerdo a la razon valor/peso en orden decreciente\n",
        "  index.sort(key=lambda i: x[i], reverse=True)\n",
        "  max_value = 0\n",
        "  for i in index:\n",
        "\n",
        "    it+=1\n",
        "    if verbose == True:\n",
        "      print(\"Valor de la mochila:\", max_value,\"\\n\")\n",
        "      print(\"Consideramos el articulo\",i+1,\"cuya razon valor/peso es\", x[i])\n",
        "      print(\"Peso del articulo:\",wt[i])\n",
        "      print(\"Capacidad de la mochila:\", W, \"\\n\")\n",
        "    if wt[i] <= W:\n",
        "      max_value += val[i]\n",
        "      W-= wt[i]\n",
        "      if verbose == True:\n",
        "        print(\"Incluimos el articulo\", i+1, \"\\n\")\n",
        "    else:\n",
        "      if verbose==True:              \n",
        "        print(\"El articulo\",i+1,\"supera la capacidad de la mochila.\\n\")  \n",
        "      break\n",
        " \n",
        "  return max_value, it\n",
        "\n",
        "\n",
        "#Ejemplo\n",
        "W = 20\n",
        "val = random.sample(range(10,100,5), 5)\n",
        "wt = random.sample(range(2,W, 2), 5)\n",
        "\n",
        "print(\"Capacidad de la mochila:\", W)\n",
        "print(\"Valores :\",val)\n",
        "print(\"Pesos :\",wt, \"\\n\")\n",
        "\n",
        "max_v, it = knapSack_Greedy(W, wt, val,0)\n",
        "print(\"Maximo valor obtenido para una mochila de tamaño\",W,\":\",max_v)\n",
        "print(\"# Iteraciones:\",it)"
      ],
      "metadata": {
        "colab": {
          "base_uri": "https://localhost:8080/"
        },
        "id": "xkbHTVfis37u",
        "outputId": "67f670a1-0d67-44c1-f96b-8e02d9103d66"
      },
      "execution_count": null,
      "outputs": [
        {
          "output_type": "stream",
          "name": "stdout",
          "text": [
            "Capacidad de la mochila: 20\n",
            "Valores : [90, 80, 55, 85, 35]\n",
            "Pesos : [14, 8, 18, 4, 16] \n",
            "\n",
            "Creamos un arreglo x que contiene lo valores valor/peso\n",
            "x = [6.43, 10.0, 3.06, 21.25, 2.19] \n",
            "\n",
            "Valor de la mochila: 0 \n",
            "\n",
            "Consideramos el articulo 4 cuya razon valor/peso es 21.25\n",
            "Peso del articulo: 4\n",
            "Capacidad de la mochila: 20 \n",
            "\n",
            "Incluimos el articulo 4 \n",
            "\n",
            "Valor de la mochila: 85 \n",
            "\n",
            "Consideramos el articulo 2 cuya razon valor/peso es 10.0\n",
            "Peso del articulo: 8\n",
            "Capacidad de la mochila: 16 \n",
            "\n",
            "Incluimos el articulo 2 \n",
            "\n",
            "Valor de la mochila: 165 \n",
            "\n",
            "Consideramos el articulo 1 cuya razon valor/peso es 6.43\n",
            "Peso del articulo: 14\n",
            "Capacidad de la mochila: 8 \n",
            "\n",
            "El articulo 1 supera la capacidad de la mochila.\n",
            "\n",
            "Maximo valor obtenido para una mochila de tamaño 20 : 165\n",
            "# Iteraciones: 3\n"
          ]
        }
      ]
    },
    {
      "cell_type": "markdown",
      "source": [
        "###3.3 Tiempo de ejecución \n",
        "El ordenar $n$ artículos en orden decreciente por su razón $valor/peso$ toma $O(nlog(n))$ comparaciones. Dado que este es el límite inferior *(lower bound)* de cualquier algoritmo de ordenamiento basado en comparaciones. Por lo tanto, el tiempo total incluído el ordenamiento es de $O(nlog(n)$.\n",
        "Si el algoritmo recibiera este arreglo ya ordenado el tiempo total seria $O(n)$ correspondiente a la comparación de los pesos con la capacidad de la mochila."
      ],
      "metadata": {
        "id": "V9oQGbkoUv3w"
      }
    },
    {
      "cell_type": "markdown",
      "source": [
        "###3.5 ¿Por que este algoritmo no es correcto?\n",
        "Aunque el algoritmo Greedy parece ser el más eficiente (complejidad temporal), **falla en dar la solución óptima** correcta para el problema de la mochila 0/1.\n",
        "Esto se debe a la restricción del problema referente a que los artículos son indivisibles es incompatibles a las características de la solución greedy. Ya que **solo considera la relación $valor/precio$ para determinar si el artículo debería o no ser incluído**. Además, una vez toma la decisión **no hay forma de retractarse**, se cierra a la posibilidad de que aparezca un objeto mas adecuado para el tamaño de nuestra mochila."
      ],
      "metadata": {
        "id": "FK_WEcLQyXLl"
      }
    },
    {
      "cell_type": "markdown",
      "source": [
        "#Experimetos"
      ],
      "metadata": {
        "id": "OAZHGSUt3Ejs"
      }
    }
  ]
}