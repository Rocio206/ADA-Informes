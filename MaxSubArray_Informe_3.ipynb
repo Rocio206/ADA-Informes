{
  "nbformat": 4,
  "nbformat_minor": 0,
  "metadata": {
    "colab": {
      "name": "MaxSubArray - Informe 3",
      "provenance": [],
      "collapsed_sections": [
        "W28-sywSPmQL",
        "j4DSFyuKMoiq",
        "hjKkDF6Ff8uj"
      ],
      "authorship_tag": "ABX9TyORQo8RRDMW3++eorRXT7gM",
      "include_colab_link": true
    },
    "kernelspec": {
      "name": "python3",
      "display_name": "Python 3"
    },
    "language_info": {
      "name": "python"
    }
  },
  "cells": [
    {
      "cell_type": "markdown",
      "metadata": {
        "id": "view-in-github",
        "colab_type": "text"
      },
      "source": [
        "<a href=\"https://colab.research.google.com/github/Rocio206/ADA-Informes/blob/main/MaxSubArray_Informe_3.ipynb\" target=\"_parent\"><img src=\"https://colab.research.google.com/assets/colab-badge.svg\" alt=\"Open In Colab\"/></a>"
      ]
    },
    {
      "cell_type": "markdown",
      "source": [
        "#Problema de Optimización \n",
        "**Entrada:** Secuencia de n números $[a1,a2,...,an]$\n",
        "\n",
        "**Salida:** El sub-arreglo $[a_i,..,a_j]$, tal que la suma de los elementos es mayor o igual a cualquier otro sub-arreglo, es decir, $\\sum\\limits_{k=i}^j a_k \\geq \\sum\\limits_{k=i'}^{j'} a_k$ , para cualquier par $(i',j')$, con $i' \\leq j'\\leq n$.\n",
        "\n",
        "El problema del subarreglo máximo fue propuesto por Ulf Grenander en 1977 como un modelo simplificado para la estimación de máxima verosimilitud de patrones en imágenes digitalizadas.\n",
        "\n",
        "Hoy en dia surgen en muchos campos, como el análisis de secuencias genómicas y la visión por computadora. \n",
        "\n",
        "#Descripcion del Algoritmo\n",
        "La logica del algorimo para encontrar el máximo sub-arreglo, implementado de forma recursiva, es bastante simple. El máximo sub-arreglo se encuentra a la izquierda del punto de medio, a la derecha de este punto, o lo contiene. Y se realiza de la siguiente manera:\n",
        " \n",
        "1. Dividimos el arreglo en 2 y buscamos, **recursivamente**, el máximo sub-arreglo de cada mitad.\n",
        "\n",
        "2. Buscamos el máximo sub-arreglo que **contenga el punto de división** usando la funcion MaxSubArrayMid. \n",
        "\n",
        "3. Retornamos el los indices de el máximo de los tres sub-arreglos.\n"
      ],
      "metadata": {
        "id": "W28-sywSPmQL"
      }
    },
    {
      "cell_type": "markdown",
      "source": [
        "#1. Implementacion \n",
        "###1.1  MaxSubArrayMid\n",
        "El codigo a continuacion implementa la funcion **MaxSubArrayMid**. \n",
        "Esta función encuentra el sub-arreglo máximo de un arreglo que contenga el elemento mid.\n"
      ],
      "metadata": {
        "id": "JEDnrl6lZ4Z8"
      }
    },
    {
      "cell_type": "code",
      "execution_count": 17,
      "metadata": {
        "id": "TRh3Gih9L9Tn",
        "colab": {
          "base_uri": "https://localhost:8080/"
        },
        "outputId": "a323bf7b-0e60-4c52-8bc3-87cb49a1312f"
      },
      "outputs": [
        {
          "output_type": "stream",
          "name": "stdout",
          "text": [
            "Maximo Subarreglo Medio: [1, 9, -6, 7]\n",
            "Suma maxima: 11\n"
          ]
        }
      ],
      "source": [
        "from math import inf\n",
        "\n",
        "def MaxSubArrayMid(A, low, mid, high):\n",
        "  suma = 0\n",
        "  leftSum = -inf      # infinito negativo\n",
        "  i = mid\n",
        "  while True:\n",
        "    suma+= A[i]\n",
        "    if suma > leftSum:\n",
        "      leftSum = suma\n",
        "      maxLeft = i\n",
        "    i -= 1\n",
        "    if i < low: break\n",
        "  \n",
        "  rightSum = -inf  ## infinito negativo\n",
        "  suma = 0\n",
        "  i = mid +1\n",
        "  while True:\n",
        "    suma += A[i]\n",
        "    if suma > rightSum:\n",
        "      rightSum = suma\n",
        "      maxRight = i\n",
        "    i += 1\n",
        "    if i > high : break\n",
        "\n",
        "  return maxLeft, maxRight, leftSum + rightSum "
      ]
    },
    {
      "cell_type": "markdown",
      "source": [
        "##1.2 MaxSubArray\n",
        "En el siguiente codigo se implementa la funcion recursiva **MaxSubArray**, para resolver el problema del sub-arreglo máximo, utilizando el enfoque divide y vencerás."
      ],
      "metadata": {
        "id": "PE8NOrdkNrRj"
      }
    },
    {
      "cell_type": "code",
      "source": [
        "from math import inf\n",
        "\n",
        "def MaxSubArrayMid(A, low, mid, high):\n",
        "  suma = 0\n",
        "  leftSum = -inf      # infinito negativo\n",
        "  i = mid\n",
        "  while True:\n",
        "    suma+= A[i]\n",
        "    if suma > leftSum:\n",
        "      leftSum = suma\n",
        "      maxLeft = i\n",
        "    i -= 1\n",
        "    if i < low: break\n",
        "  \n",
        "  rightSum = -inf  ## infinito negativo\n",
        "  suma = 0\n",
        "  i = mid +1\n",
        "  while True:\n",
        "    suma += A[i]\n",
        "    if suma > rightSum:\n",
        "      rightSum = suma\n",
        "      maxRight = i\n",
        "    i += 1\n",
        "    if i > high : break\n",
        "\n",
        "  return maxLeft, maxRight, leftSum + rightSum \n",
        "\n",
        "def MaxSubArray(A, i, j, r, verbose=True):\n",
        "  r+=1   #contador de recursiones\n",
        "\n",
        "  if i == j: return i, j, A[i],r\n",
        "  else:\n",
        "    mid = (i+j) // 2 \n",
        "    i_left, j_left, sumLeft,r = MaxSubArray(A, i, mid,r)\n",
        "    i_right, j_right, sumRight,r = MaxSubArray(A, mid+1, j,r)\n",
        "    i_center, j_center, sumCenter = MaxSubArrayMid(A, i, mid, j )\n",
        "\n",
        "    if verbose==True and r > 1:\n",
        "      print()\n",
        "      print(\"Arreglo :\", A[i:j+1] )\n",
        "      print(\"Sub-arreglos candidatos:\")\n",
        "      print(A[i_left: j_left+1],    \"MaxSubArray a la izquierda             #Suma:\",sumLeft)\n",
        "      print(A[i_right: j_right+1],  \"MaxSubArray a la derecha               #Suma:\",sumRight)\n",
        "      print(A[i_center: j_center+1],\"MaxSubArray que contiene el punto mid  #Suma:\", sumCenter)\n",
        "\n",
        "  if sumLeft >= sumRight and sumLeft >= sumCenter:\n",
        "    return i_left, j_left, sumLeft, r\n",
        "  elif sumRight >= sumLeft and sumRight >= sumCenter:\n",
        "    return i_right, j_right, sumRight, r \n",
        "  else : \n",
        "    return i_center,j_center, sumCenter, r\n",
        "\n",
        "#Ejemplo\n",
        "A = [-2, -3, 4, -1, -2, 1, 5, -3]\n",
        "print(\"Entrada:\", A)\n",
        "i , j, maxSuma, r =  MaxSubArray(A, 0, len(A)-1, 0)\n",
        "print()\n",
        "print(\"Maximo Subarreglo:\",A[i:j+1])\n",
        "print(\"Suma maxima:\", maxSuma) \n",
        "print(\"# Recurciones \",r)"
      ],
      "metadata": {
        "colab": {
          "base_uri": "https://localhost:8080/"
        },
        "id": "mEj0LVu2izrN",
        "outputId": "5c426eeb-8661-4a52-e3b7-c59a4c0c7968"
      },
      "execution_count": 31,
      "outputs": [
        {
          "output_type": "stream",
          "name": "stdout",
          "text": [
            "Entrada: [-2, -3, 4, -1, -2, 1, 5, -3]\n",
            "\n",
            "Arreglo : [-2, -3]\n",
            "Sub-arreglos candidatos:\n",
            "[-2] MaxSubArray a la izquierda             #Suma: -2\n",
            "[-3] MaxSubArray a la derecha               #Suma: -3\n",
            "[-2, -3] MaxSubArray que contiene el punto mid  #Suma: -5\n",
            "\n",
            "Arreglo : [4, -1]\n",
            "Sub-arreglos candidatos:\n",
            "[4] MaxSubArray a la izquierda             #Suma: 4\n",
            "[-1] MaxSubArray a la derecha               #Suma: -1\n",
            "[4, -1] MaxSubArray que contiene el punto mid  #Suma: 3\n",
            "\n",
            "Arreglo : [-2, -3, 4, -1]\n",
            "Sub-arreglos candidatos:\n",
            "[-2] MaxSubArray a la izquierda             #Suma: -2\n",
            "[4] MaxSubArray a la derecha               #Suma: 4\n",
            "[-3, 4] MaxSubArray que contiene el punto mid  #Suma: 1\n",
            "\n",
            "Arreglo : [-2, 1]\n",
            "Sub-arreglos candidatos:\n",
            "[-2] MaxSubArray a la izquierda             #Suma: -2\n",
            "[1] MaxSubArray a la derecha               #Suma: 1\n",
            "[-2, 1] MaxSubArray que contiene el punto mid  #Suma: -1\n",
            "\n",
            "Arreglo : [5, -3]\n",
            "Sub-arreglos candidatos:\n",
            "[5] MaxSubArray a la izquierda             #Suma: 5\n",
            "[-3] MaxSubArray a la derecha               #Suma: -3\n",
            "[5, -3] MaxSubArray que contiene el punto mid  #Suma: 2\n",
            "\n",
            "Arreglo : [-2, 1, 5, -3]\n",
            "Sub-arreglos candidatos:\n",
            "[1] MaxSubArray a la izquierda             #Suma: 1\n",
            "[5] MaxSubArray a la derecha               #Suma: 5\n",
            "[1, 5] MaxSubArray que contiene el punto mid  #Suma: 6\n",
            "\n",
            "Arreglo : [-2, -3, 4, -1, -2, 1, 5, -3]\n",
            "Sub-arreglos candidatos:\n",
            "[4] MaxSubArray a la izquierda             #Suma: 4\n",
            "[1, 5] MaxSubArray a la derecha               #Suma: 6\n",
            "[4, -1, -2, 1, 5] MaxSubArray que contiene el punto mid  #Suma: 7\n",
            "\n",
            "Maximo Subarreglo: [4, -1, -2, 1, 5]\n",
            "Suma maxima: 7\n",
            "# Recurciones  15\n"
          ]
        }
      ]
    },
    {
      "cell_type": "markdown",
      "source": [
        "#2. Correctitud\n",
        "## 2.1 MaxSubArrayMid\n",
        "La fucion MaxSubArrayMid retorna los indices i y j del sub-arreglo maximo que pasa por en punto medio (mid).\n",
        "\n",
        "Aunque en la funcion MaxSubArrayMid se usa dos bucles, el primero determina el indice $i$ del sub-arreglo maximo a la izquierda del punto medio y el segundo el indice $j$ del sub-arreglo maximo a la derecha del punto medio  :\n",
        "\n",
        "> **Propiedad (izquierda):** Al inicio de cada iteracion $t$ (uso esta notacion para no confundir con el indice i), $A[i+1 : mid] \\leq A[maxLeft: mid]$.\n",
        "\n",
        "**Inicializacion:** Al inicio de la primera iteración $t = 1$, maxLeft aun no toma ningun valor por lo que se podriamos decir que cumpliendo trivialmente con la propiedad.\n",
        "\n",
        "**Mantencion:** Ya que $maxLeft$ toma el valor de i si la sumatoria de elementos de $A[i: mid] $ es mayor a $A[maxLeft: mid]$. Por lo que se cumple la propiedad para cualquier $i = m$.\n",
        "\n",
        "\n",
        "> **Propiedad (derecha):** Al inicio de cada iteracion $t$ (uso esta notacion para no confundir con el indice i), $A[mid+1: i-1] \\leq A[mid+1:maxRight]$.\n",
        "\n",
        "**Inicializacion:** Al inicio de la primera iteración $t = 1$, maxRight aun no toma ningun valor por lo que se podriamos decir que cumpliendo trivialmente con la propiedad.\n",
        "\n",
        "**Mantencion:** Ya que durante cada iteracion, $maxRight$ toma el valor de i si la sumatoria de elementos de $A[mid+1: i] $ es mayor a $A[mid+1 : maxRight]$. Por lo que se cumple la propiedad para cualquier $i = m$.\n",
        "\n",
        "\n",
        "**Correctitud:** Ya que luego del primer bucle, maxLeft y maxRight contendran los indices de posicion cuando al sumatoria de elementos fue mayor. Por lo que el sub-arreglo $A[maxLeft:maxRight]$ sera el sub-arreglo maximo que contenga el punto medio.\n",
        "\n",
        "##2.2 MaxSubArray\n",
        "### Teorema (correctitud)\n",
        "El algoritmo MaxSubArray retorna los indices $i$ y $j$ de el maximo sub-arreglo tal que, $\\sum\\limits_{k=i}^j a_k \\geq \\sum\\limits_{k=i'}^{j'} a_k$ , para cualquier par $(i',j')$, con $i' \\leq j'.\n",
        "\n",
        "####Prueba del teorema\n",
        "Como **MaxSubArray** es un algoritmo recursivio usaremos **inducción matematica** por lo que probaremos la siguiente hipótesis:\n",
        "\n",
        "> **Hipotesis $P(n)$** El algoritmo MaxSubArray retorna los indices $i$ y $j$ de el maximo sub-arreglo contenido en en una secuencia de n numeros.\n",
        "\n",
        "**Caso base:** Cuando $n=1$, MaxSubArray retorna i=0 y j=0, indices correspondientes a la posicion del primer y unico elemento del arreglo, por lo que se cumple $P(1)$.\n",
        "\n",
        "**Paso inductivo:** Para $n$ elementos, se divide el arreglo en dos $(mid=n/2)$ y se buscan, recursivamente, los indices del maximo sub-arreglo a la izquieda del punto medio $(a_1...mid)$ y del maximo sub-arreglo a la derecha del punto medio $(mid+1...a_n)$ .\n",
        "Luego usando la funcion MaxSubArrayMid buscamos el máximo sub-arreglo que contenga el punto medio. Finalmente se comparan los tres sub-arreglos y se retorna el mayor. Por lo que, **MaxSubArray es correcto**.\n",
        "\n",
        "\n",
        "\n",
        "\n"
      ],
      "metadata": {
        "id": "j4DSFyuKMoiq"
      }
    },
    {
      "cell_type": "markdown",
      "source": [
        "#3. Analisis del tiempo de ejecución\n",
        "Para resolver la recurencia del algoritmo MaxSubArray utilizaremos el **Teorema Maestro** el cual nos presenta una formula para resolver recurrencias del tipo:\n",
        "$T(n) \\leq aT(n/b)+O(n^b)$\n",
        "\n",
        "![image](https://imgur.com/rFgxKOz.png)\n",
        "\n",
        "> **Funcion de recurrencia para MaxSubArray:**\n",
        "        \n",
        "$T(n) = \\begin{cases}\n",
        "  O(1)  & n \\text{ = 1} \\\\\n",
        "  2 T(n/2) + O(n) & \\text{ otherwise}\n",
        "\\end{cases}$\n",
        "\n",
        "\n",
        "Si aplicamos el teorema a la funcion de recurrencia de MaxSubArray, encontramos el tiempo de ejecución, $O(nlog(n))$.\n",
        "\n",
        "**Mejor caso:** El mejor casos seria cuando $n = 1$, ya que lo se retorna inmediatamente, sin realizar ninguna recursión. Esto tendria un tiempo de ejecución $O(1)$.\n",
        "\n",
        "**Peor caso:** El peor de caso seria cuando $n > 1$, ya que se hacen $log(n)$ recursiones. Si sumamos el tiempo de ejecución $O(n)$ de la funcion MaxSubArrayMid nos da un tiempo de ejecución $O(nlog(n))$.\n",
        "\n"
      ],
      "metadata": {
        "id": "hjKkDF6Ff8uj"
      }
    },
    {
      "cell_type": "markdown",
      "source": [
        "#4. Experimentos\n",
        "##4.1 MaxSubArray vs Kadane\n",
        "En el siguiente grafico se muestra una comparación entre el tiempo de ejecucion de MaxSubArray y Kadanen ($O(n)$), en función del tamaño del problema para arreglos generados aleatoriamente de tamaños entre 5 y 500 ."
      ],
      "metadata": {
        "id": "iY3Ggy19yl4Z"
      }
    },
    {
      "cell_type": "code",
      "source": [
        "import random\n",
        "import math\n",
        "from math import inf \n",
        "import matplotlib.pyplot as plt\n",
        "import datetime\n",
        "from timeit import repeat\n",
        "\n",
        "def MaxSubArrayMid(A, low, mid, high):\n",
        "  suma = 0\n",
        "  leftSum = -inf      # infinito negativo\n",
        "  i = mid\n",
        "  while True:\n",
        "    suma+= A[i]\n",
        "    if suma > leftSum:\n",
        "      leftSum = suma\n",
        "      maxLeft = i\n",
        "    i -= 1\n",
        "    if i < low: break\n",
        "  \n",
        "  rightSum = -inf  ## infinito negativo\n",
        "  suma = 0\n",
        "  i = mid +1\n",
        "  while True:\n",
        "    suma += A[i]\n",
        "    if suma > rightSum:\n",
        "      rightSum = suma\n",
        "      maxRight = i\n",
        "    i += 1\n",
        "    if i > high : break\n",
        "\n",
        "  return maxLeft, maxRight, leftSum + rightSum \n",
        "\n",
        "def MaxSubArray(A, i, j):\n",
        "  if i== j: return i, j, A[i]\n",
        "  else:\n",
        "    mid = (i+j) // 2 \n",
        "    i_left, j_left, sumLeft = MaxSubArray(A, i, mid)\n",
        "    i_right, j_right, sumRight = MaxSubArray(A, mid+1, j)\n",
        "    i_center, j_center, sumCenter = MaxSubArrayMid(A, i, mid, j )\n",
        "\n",
        "  if sumLeft >= sumRight and sumLeft >= sumCenter:\n",
        "    return i_left, j_left, sumLeft \n",
        "  elif sumRight >= sumLeft and sumRight >= sumCenter:\n",
        "    return i_right, j_right, sumRight\n",
        "  else : \n",
        "    return i_center,j_center, sumCenter\n",
        "\n",
        "#Kadane\n",
        "def kadane(A):\n",
        "  max_so_far = 0\n",
        "  max_ending_here = 0\n",
        "  for i in A:\n",
        "    max_ending_here += + i\n",
        "    max_ending_here = max(max_ending_here, 0)\n",
        "    max_so_far = max(max_so_far, max_ending_here)\n",
        "  return max_so_far\n",
        "\n",
        "x=[]; y=[]; y2=[]\n",
        "\n",
        "for n in range(5,500):\n",
        "\n",
        "  a = random.sample(range(-500, 500), n)\n",
        "\n",
        "  #la función repeat está ejecutando 20 veces bubble_sort con el arreglo a y retorna el mejor tiepo obtenido.\n",
        "  t = repeat(setup=\"from __main__ import kadane\", stmt=f\"kadane({a})\", repeat=1, number=10)\n",
        "  t2 = repeat(setup=\"from __main__ import MaxSubArray\", stmt=f\"MaxSubArray({a},{0},{len(a)-1})\", repeat=1, number=10)\n",
        "\n",
        "  x.append(n)\n",
        "  y.append(t)\n",
        "  y2.append(t2)\n",
        "\n",
        "\n",
        "plt.plot(x,y)\n",
        "plt.plot(x,y2)\n",
        "plt.legend([\"Kadane\",\"MaxSubArray\"])\n",
        "\n",
        "plt.xlabel('n')\n",
        "plt.ylabel('time in ms')\n",
        "plt.show()"
      ],
      "metadata": {
        "colab": {
          "base_uri": "https://localhost:8080/",
          "height": 282
        },
        "id": "aEA42SRfy-4u",
        "outputId": "6ebab4b1-ace7-4715-a699-8a5165197232"
      },
      "execution_count": 46,
      "outputs": [
        {
          "output_type": "display_data",
          "data": {
            "text/plain": [
              "<Figure size 432x288 with 1 Axes>"
            ],
            "image/png": "[encoded data removed]"
          },
          "metadata": {
            "needs_background": "light"
          }
        }
      ]
    },
    {
      "cell_type": "markdown",
      "source": [
        "### Analisis de resultados\n",
        "Viendo los resultados notamos como el algoritmo Kanade es mucho mas rapido. El tiempo de ejecucion de MaxSubArray se expresa linealmente en funcion al tamaño del problema, como era de esperar por su tiempo de ejecucion teorico $O(nlog(n))$."
      ],
      "metadata": {
        "id": "Eq_gLm827QdP"
      }
    },
    {
      "cell_type": "markdown",
      "source": [
        "##4.2 MaxSubArray vs MergeSort\n",
        "En el siguiente grafico veremos un comparación entre el tiempo de ejecusion del algoritmo de ordenamiento MergeSort y el algoritmo de optimizacion MaxSubArrayMid implementado recursivamente. En teoria ambos deberian mostrar resultados similares, ya que ambos tienen un tiempo de ejecución $O(nlog(n))$ y la misma funcion de recursividad."
      ],
      "metadata": {
        "id": "fbTmirrgDup6"
      }
    },
    {
      "cell_type": "code",
      "source": [
        "import random\n",
        "import math\n",
        "import matplotlib.pyplot as plt\n",
        "from math import inf \n",
        "\n",
        "def merge(a, b, t ):\n",
        "  c = [] \n",
        "  while len(a) > 0 and len(b) > 0:\n",
        "    t += 1                      #contador de comparaciones \n",
        "    if a[0] < b[0]:          \n",
        "      c.append (a[0])\n",
        "      a.pop(0)\n",
        "    else: \n",
        "      c.append (b[0])\n",
        "      b.pop(0)\n",
        "   \n",
        "  if len(a) == 0:  # agrego los elementos del arreglo que me queda al final de c\n",
        "    c += b\n",
        "  else: \n",
        "    c += a\n",
        "  return c , t\n",
        "\n",
        "def mergeSort(arr):\n",
        "  if len(arr) < 2: return arr , 0\n",
        "  else:\n",
        "    mid = len(arr) // 2\n",
        "    right, t1= mergeSort(arr[:mid])\n",
        "    left, t2= mergeSort(arr[mid:])\n",
        "    return merge(right, left, t1+t2)\n",
        "\n",
        "def MaxSubArrayMid(A, low, mid, high):\n",
        "  suma = 0\n",
        "  leftSum = -inf      # infinito negativo\n",
        "  i = mid\n",
        "  while True:\n",
        "    suma+= A[i]\n",
        "    if suma > leftSum:\n",
        "      leftSum = suma\n",
        "      maxLeft = i\n",
        "    i -= 1\n",
        "    if i < low: break\n",
        "  \n",
        "  rightSum = -inf  ## infinito negativo\n",
        "  suma = 0\n",
        "  i = mid +1\n",
        "  while True:\n",
        "    suma += A[i]\n",
        "    if suma > rightSum:\n",
        "      rightSum = suma\n",
        "      maxRight = i\n",
        "    i += 1\n",
        "    if i > high : break\n",
        "\n",
        "  return maxLeft, maxRight, leftSum + rightSum \n",
        "\n",
        "def MaxSubArray(A, i, j):\n",
        "  if i== j: return i, j, A[i]\n",
        "  else:\n",
        "    mid = (i+j) // 2 \n",
        "    i_left, j_left, sumLeft = MaxSubArray(A, i, mid)\n",
        "    i_right, j_right, sumRight = MaxSubArray(A, mid+1, j)\n",
        "    i_center, j_center, sumCenter = MaxSubArrayMid(A, i, mid, j )\n",
        "\n",
        "  if sumLeft >= sumRight and sumLeft >= sumCenter:\n",
        "    return i_left, j_left, sumLeft \n",
        "  elif sumRight >= sumLeft and sumRight >= sumCenter:\n",
        "    return i_right, j_right, sumRight\n",
        "  else : \n",
        "    return i_center,j_center, sumCenter\n",
        "\n",
        "x=[]; y=[]; y2=[]\n",
        "\n",
        "for n in range(5,500):\n",
        "\n",
        "  a = random.sample(range(-500, 500), n)\n",
        "\n",
        "  #la función repeat está ejecutando 20 veces bubble_sort con el arreglo a y retorna el mejor tiepo obtenido.\n",
        "  t = repeat(setup=\"from __main__ import mergeSort\", stmt=f\"mergeSort({a})\", repeat=1, number=10)\n",
        "  t2 = repeat(setup=\"from __main__ import MaxSubArray\", stmt=f\"MaxSubArray({a},{0},{len(a)-1})\", repeat=1, number=10)\n",
        "\n",
        "  x.append(n)\n",
        "  y.append(t)\n",
        "  y2.append(t2)\n",
        "\n",
        "\n",
        "plt.plot(x,y)\n",
        "plt.plot(x,y2)\n",
        "plt.legend([\"MergeSort\",\"MaxSubArray\"])\n",
        "\n",
        "plt.xlabel('n')\n",
        "plt.ylabel('time in ms')\n",
        "plt.show()\n",
        "\n"
      ],
      "metadata": {
        "colab": {
          "base_uri": "https://localhost:8080/",
          "height": 281
        },
        "id": "BUOdva0RFOMG",
        "outputId": "3c62cef5-6218-402f-f9e9-e02de78f10a1"
      },
      "execution_count": 44,
      "outputs": [
        {
          "output_type": "display_data",
          "data": {
            "text/plain": [
              "<Figure size 432x288 with 1 Axes>"
            ],
            "image/png": "[encoded data removed]"
          },
          "metadata": {
            "needs_background": "light"
          }
        }
      ]
    },
    {
      "cell_type": "markdown",
      "source": [
        "###Analisis de resultados\n",
        "Como era esperado el tiempo de ejecucion de ambos algoritmos se expresa linealmente con respecto al tamaño del problema. Sin embargo, MaxSubArray es mas rapido."
      ],
      "metadata": {
        "id": "1sevLWNsRDwT"
      }
    }
  ]
}