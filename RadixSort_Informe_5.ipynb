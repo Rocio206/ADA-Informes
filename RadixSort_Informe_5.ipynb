{
  "nbformat": 4,
  "nbformat_minor": 0,
  "metadata": {
    "colab": {
      "provenance": [],
      "authorship_tag": "ABX9TyMy2FUHei3VGIAnQwBh6L8h",
      "include_colab_link": true
    },
    "kernelspec": {
      "name": "python3",
      "display_name": "Python 3"
    },
    "language_info": {
      "name": "python"
    }
  },
  "cells": [
    {
      "cell_type": "markdown",
      "metadata": {
        "id": "view-in-github",
        "colab_type": "text"
      },
      "source": [
        "<a href=\"https://colab.research.google.com/github/Rocio206/ADA-Informes/blob/main/RadixSort_Informe_5.ipynb\" target=\"_parent\"><img src=\"https://colab.research.google.com/assets/colab-badge.svg\" alt=\"Open In Colab\"/></a>"
      ]
    },
    {
      "cell_type": "markdown",
      "source": [
        "#1. Problema de ordenamiento\n",
        "**Entrada:** Arreglo $A[1 . . . n]$ con **enteros no negativos** de $d$-ígitos y $d$.\n",
        " \n",
        "**Salida:** Arreglo $A$ reordenado de menor a mayor.\n",
        "\n",
        "RadixSort nos permite ordenar un arreglo de forma estable. Ademas, al no ser un algoritmo de ordenamiento comparativo, logra romper con la barrera teórica de $O(nlog(n))$ al utilizar mas informacion sobre los elementos.\n",
        "\n",
        "\n"
      ],
      "metadata": {
        "id": "aH4JV0zWtgDa"
      }
    },
    {
      "cell_type": "markdown",
      "source": [
        "#2. Implementacion \n",
        "\n",
        "###2.1 CountingSort\n",
        "A continuacion veremos una implementacion del algoritmo de ordenamiento CountingSort. \n",
        "\n",
        "CountingSort asume que los elemntos de entrada son enteros no negativos en el rango $[0,1,....,k]$. \n",
        "Primero contamos cuantos elementos son menores o iguales a $x$, para cada elemento $x$. Una vez que la informacion es calculada, cada elemento $x$ es **colocado directamente** en su posicioin final en el arreglo de salida.\n",
        "\n",
        "Se incorpora tambion la función **vebose** que nos permite ver que sucede dentro del algoritmo paso a paso.\n"
      ],
      "metadata": {
        "id": "Yf8Vj0wdvxPh"
      }
    },
    {
      "cell_type": "code",
      "execution_count": 12,
      "metadata": {
        "colab": {
          "base_uri": "https://localhost:8080/"
        },
        "id": "XV8aiXTbtauN",
        "outputId": "4ba589c3-b34b-4d8e-8fb5-0f3b627ad65c"
      },
      "outputs": [
        {
          "output_type": "stream",
          "name": "stdout",
          "text": [
            "Entrada (A):  [1, 4, 2, 2, 0, 3, 1, 3, 1, 5]\n",
            "\n",
            "Luego del 1er bucle for:\n",
            "C : [0, 0, 0, 0, 0, 0]\n",
            "\n",
            "Luego del 2do bucle for:\n",
            "C : [1, 2, 2, 2, 1, 1]\n",
            "\n",
            "Luego del 3er bucle for:\n",
            "C : [1, 3, 5, 7, 8, 9]\n",
            "\n",
            "Salida (B): [0, 1, 1, 1, 2, 2, 3, 3, 4, 5]\n"
          ]
        }
      ],
      "source": [
        "def countingSort(A,B, k, verbose=True):\n",
        "  C = []\n",
        "  for i in range (k+1):\n",
        "    C.append(0)\n",
        "  if verbose==True:\n",
        "    print(\"Luego del 1er bucle for:\")\n",
        "    print(\"C :\",C)\n",
        "    print()\n",
        "  \n",
        "  for j in range (1, len(A)):\n",
        "    C[A[j]] += 1\n",
        "  if verbose==True:\n",
        "    print(\"Luego del 2do bucle for:\")\n",
        "    print(\"C :\",C)  \n",
        "    print()\n",
        "\n",
        "  for i in range (1, k+1):\n",
        "    C[i] += C[i-1]\n",
        "  if verbose==True:\n",
        "    print(\"Luego del 3er bucle for:\")\n",
        "    print(\"C :\",C)\n",
        "    print()\n",
        "  for j in reversed(range(len(A))):\n",
        "    B[C[A[j]]] = A[j]\n",
        "    C[A[j]] -= 1\n",
        "\n",
        "\n",
        "\n",
        "A = [1,4,2,2,0,3,1,3,1,5]  # rango de A es [0,5]\n",
        "\n",
        "print(\"Entrada (A): \", A)\n",
        "print()\n",
        "B = [0] * len(A)\n",
        "countingSort(A,B, 5)\n",
        "print(\"Salida (B):\", B)"
      ]
    },
    {
      "cell_type": "markdown",
      "source": [
        "###2.2 RadixSort\n",
        "RadixSort es un algoritmo de ordenamiento utilizado en las antiguas computadoras para ordenar tarjetas.\n",
        "\n",
        "Realiza $d$ ordenamientos de $n$ elementos (no negativos) cada uno. Utiliza **CountingSort para ordenar de forma estable** el arreglo $A$ por el $i$-ésimo dígito. \n",
        "\n"
      ],
      "metadata": {
        "id": "V52-qkduKBGZ"
      }
    },
    {
      "cell_type": "code",
      "source": [
        "def countingSort(A, exp):\n",
        "  C = [0] * 10\n",
        "  B = [0] * len(A)\n",
        "  \n",
        "  for j in range (0,len(A)):\n",
        "    index = A[j] // exp\n",
        "    C[index % 10] += 1\n",
        "\n",
        "  for i in range (1, 10):\n",
        "    C[i] += C[i-1]\n",
        "\n",
        "  for j in reversed(range(len(A))):\n",
        "    index = A[j] // exp\n",
        "    B[C[index % 10]-1] = A[j]\n",
        "    C[index % 10] -= 1\n",
        "  return B\n",
        "\n",
        "def radixSort(A, d):\n",
        "  exp = 1\n",
        "  for i in range(1,d+1):\n",
        "    A = countingSort(A,exp)\n",
        "    exp *= 10\n",
        "    print(\"Pasada #\", i)\n",
        "    print(A)\n",
        "    print()\n",
        "  return A\n",
        "\n",
        "#Ejemplo\n",
        "A = [170, 45, 75, 90, 802, 24, 2, 66]\n",
        "\n",
        "print(\"Entrada :\" ,A)\n",
        "print()\n",
        "\n",
        "A = radixSort(A,3)\n",
        "\n",
        "print(\"Salida :\" ,A)"
      ],
      "metadata": {
        "colab": {
          "base_uri": "https://localhost:8080/"
        },
        "id": "FCy0Dw70KUOh",
        "outputId": "be5b1c35-57da-4952-df7e-0c2638cb9c3b"
      },
      "execution_count": 40,
      "outputs": [
        {
          "output_type": "stream",
          "name": "stdout",
          "text": [
            "Entrada : [170, 45, 75, 90, 802, 24, 2, 66]\n",
            "\n",
            "Pasada # 1\n",
            "[170, 90, 802, 2, 24, 45, 75, 66]\n",
            "\n",
            "Pasada # 2\n",
            "[802, 2, 24, 45, 66, 170, 75, 90]\n",
            "\n",
            "Pasada # 3\n",
            "[2, 24, 45, 66, 75, 90, 170, 802]\n",
            "\n",
            "Salida : [2, 24, 45, 66, 75, 90, 170, 802]\n"
          ]
        }
      ]
    },
    {
      "cell_type": "markdown",
      "source": [
        "#3. Correctitud\n",
        "### **CountingSort**\n",
        "\n",
        "Al finalizar los **tres primeros bucles for**, $C[A[i]]$ contiene el número de elementos menores o iguales a $A[i]$ en el arreglo $A[1...n]$.\n",
        "\n",
        "Suponiendo que existen $k$ ocurrencias de $a= A[i]$. Ellas deben aparecer en el arreglo de salida en las posiciones:\n",
        "\n",
        "> $C[a], C[a]-1,..., C[a]- k+1$\n",
        "\n",
        "Las $k$ ocurrencias de $a=A[i]$ aparecen en $k$ posiciones $1 \\leq i_1 \\leq i_2 \\leq... i_k \\leq n $\n",
        "\n",
        "El último bucle for coloca $A[i_k]$ en la posición $C[a]$, $A[i_k-1]$ el la posicion $C[a]-1$, y asi sucesivamente hasta colocar $A[i_1]$ en $C[a]-k+1$\n",
        "\n",
        "### **RadixSort**\n",
        "\n",
        "Considerando un arreglo $A$ con $n$ enteros no negativos de $d$ dígitos cada uno donde $A[i][j]$ denota el $j$-ésimo dígoto del $i$-ésimo entero.\n",
        "\n",
        "\n",
        "**Hipotesis:** Al comenzar la $k$-ésima iteracion, los enteros estan ordenados por los primeros $k-1$ dígitos. Al finalizar, $k=d+1$ y los enteros estan ordenados por los $d$-dígitos\n",
        "\n",
        "**Caso base :** Al comenzar la primera iteracion $k-1=0$ y los enteros no están ordenados.\n",
        "\n",
        "**Tesis :** Suponga la hipotesis y considere la $k$-ésima iteración durante la\n",
        "cual los enteros se ordenan de **forma estable** por el $k$-ésimo dígito.\n",
        "\n",
        "Sean $z$ y $z´$ dos enteros en el arreglo tal que $z[1...k]$ < $z´[1...k]$\n",
        "\n",
        "\n",
        "*   Si $z[k] < z´[k]$ entonces  $z$ aparece antes que $z´$ al finalizar la iteracion porque los numeros son ordenados por el $k$-ésimo dígito\n",
        "\n",
        "*   Si $z[k] = z´[k]$ y $z[1...k-1] < z´[1...k-1]$, entonces al inicio de la iteracion $z$ estaba antes que $z´$ . Como el algoritmo es estable al finalizar la iteracion $z$ esta antes que $z´$ en el arreglo.\n",
        "\n",
        "\n",
        "\n",
        "\n",
        "\n",
        "\n"
      ],
      "metadata": {
        "id": "vxHtfuJuK_OQ"
      }
    },
    {
      "cell_type": "markdown",
      "source": [
        "#4. Análisis del Tiempo de Ejecución\n",
        "### **CountingSort** \n",
        "\n",
        "Analizamos el tiempo de los 4 bucles :\n",
        "\n",
        "1.   Ejecuta $k+1$ iteraciones.\n",
        "2.   Ejecuta $n$ iteraciones\n",
        "3.   Ejecuta $k$ iteraciones\n",
        "4.   Ejecuta $n$ iteraciones\n",
        "\n",
        "Si sumamos tenemos un tiempo de $2n+2k+1$\n",
        "\n",
        "> El tiempo total es **$O(n+k)$**\n",
        "\n",
        "\n",
        "### **RadixSort**\n",
        "RadixSort realiza $d$ ordenamientos de $n$ elementos cada uno. Cada ordenamiento puede hacerse con CountingSort en tiempo $O(n+k) = O(n)$ (con $k=10$) ya que es sobre los dígitos de cada número.\n",
        "\n",
        "\n",
        "> El tiempo total es **$O(dn)$**\n",
        "\n",
        "\n"
      ],
      "metadata": {
        "id": "e7HM9lJOPqdh"
      }
    },
    {
      "cell_type": "markdown",
      "source": [
        "#5. Experimentos\n",
        "\n",
        "##CountingSort vs BucketSort\n",
        "\n",
        "\n"
      ],
      "metadata": {
        "id": "4vMla66N8vTG"
      }
    },
    {
      "cell_type": "code",
      "source": [
        "import random\n",
        "import matplotlib.pyplot as plt\n",
        "import datetime\n",
        "from timeit import repeat\n",
        "import numpy as np\n",
        "\n",
        "def insertionSort(b):\n",
        "    for i in range(1, len(b)):\n",
        "        up = b[i]\n",
        "        j = i - 1\n",
        "        while j >= 0 and b[j] > up: \n",
        "            b[j + 1] = b[j]\n",
        "            j -= 1\n",
        "        b[j + 1] = up     \n",
        "    return b     \n",
        "              \n",
        "def bucketSort(x):\n",
        "    arr = []\n",
        "    slot_num = 10 \n",
        "    for i in range(slot_num):\n",
        "        arr.append([])\n",
        "          \n",
        "    for j in x:\n",
        "        index_b = int(slot_num * j) \n",
        "        arr[index_b].append(j)\n",
        "      \n",
        "    for i in range(slot_num):\n",
        "        arr[i] = insertionSort(arr[i])\n",
        "\n",
        "    k = 0\n",
        "    for i in range(slot_num):\n",
        "        for j in range(len(arr[i])):\n",
        "            x[k] = arr[i][j]\n",
        "            k += 1\n",
        "    return x\n",
        "\n",
        "def countingSort(A, exp):\n",
        "  C = [0] * 10\n",
        "  B = [0] * len(A)\n",
        "  \n",
        "  for j in range (0,len(A)):\n",
        "    index = A[j] // exp\n",
        "    C[index % 10] += 1\n",
        "\n",
        "  for i in range (1, 10):\n",
        "    C[i] += C[i-1]\n",
        "\n",
        "  for j in reversed(range(len(A))):\n",
        "    index = A[j] // exp\n",
        "    B[C[index % 10]-1] = A[j]\n",
        "    C[index % 10] -= 1\n",
        "  return B\n",
        "\n",
        "def radixSort(A, d):\n",
        "  exp = 1\n",
        "  for i in range(1,d+1):\n",
        "    A = countingSort(A,exp)\n",
        "    exp *= 10\n",
        "  return A\n",
        "\n",
        "x=[]; y=[]; y2=[]\n",
        "\n",
        "for n in range(5,100):\n",
        "  a = random.sample(range(100, 999), n)\n",
        "  a2 = random.sample(np.arange(0,1.0, 0.001),n)\n",
        "\n",
        "  t = repeat(setup=\"from __main__ import radixSort\", stmt=f\"radixSort({a})\", repeat=1, number=10)\n",
        "  t2 = repeat(setup=\"from __main__ import bucketSort\", stmt=f\"bucketSort({a2})\", repeat=1, number=10)\n",
        "\n",
        "  x.append(n)\n",
        "  y.append(t)\n",
        "  y2.append(t2)\n",
        "\n"
      ],
      "metadata": {
        "colab": {
          "base_uri": "https://localhost:8080/",
          "height": 367
        },
        "id": "HmuVM8rqVmfm",
        "outputId": "e0acb26f-fb96-40a4-fc5a-472a3508960f"
      },
      "execution_count": 53,
      "outputs": [
        {
          "output_type": "error",
          "ename": "TypeError",
          "evalue": "ignored",
          "traceback": [
            "\u001b[0;31m---------------------------------------------------------------------------\u001b[0m",
            "\u001b[0;31mTypeError\u001b[0m                                 Traceback (most recent call last)",
            "\u001b[0;32m<ipython-input-53-bf9eb22cb5c8>\u001b[0m in \u001b[0;36m<module>\u001b[0;34m\u001b[0m\n\u001b[1;32m     63\u001b[0m \u001b[0;32mfor\u001b[0m \u001b[0mn\u001b[0m \u001b[0;32min\u001b[0m \u001b[0mrange\u001b[0m\u001b[0;34m(\u001b[0m\u001b[0;36m5\u001b[0m\u001b[0;34m,\u001b[0m\u001b[0;36m100\u001b[0m\u001b[0;34m)\u001b[0m\u001b[0;34m:\u001b[0m\u001b[0;34m\u001b[0m\u001b[0;34m\u001b[0m\u001b[0m\n\u001b[1;32m     64\u001b[0m   \u001b[0ma\u001b[0m \u001b[0;34m=\u001b[0m \u001b[0mrandom\u001b[0m\u001b[0;34m.\u001b[0m\u001b[0msample\u001b[0m\u001b[0;34m(\u001b[0m\u001b[0mrange\u001b[0m\u001b[0;34m(\u001b[0m\u001b[0;36m100\u001b[0m\u001b[0;34m,\u001b[0m \u001b[0;36m999\u001b[0m\u001b[0;34m)\u001b[0m\u001b[0;34m,\u001b[0m \u001b[0mn\u001b[0m\u001b[0;34m)\u001b[0m\u001b[0;34m\u001b[0m\u001b[0;34m\u001b[0m\u001b[0m\n\u001b[0;32m---> 65\u001b[0;31m   \u001b[0ma2\u001b[0m \u001b[0;34m=\u001b[0m \u001b[0mrandom\u001b[0m\u001b[0;34m.\u001b[0m\u001b[0msample\u001b[0m\u001b[0;34m(\u001b[0m\u001b[0mnp\u001b[0m\u001b[0;34m.\u001b[0m\u001b[0marange\u001b[0m\u001b[0;34m(\u001b[0m\u001b[0;36m0\u001b[0m\u001b[0;34m,\u001b[0m\u001b[0;36m1.0\u001b[0m\u001b[0;34m,\u001b[0m \u001b[0;36m0.001\u001b[0m\u001b[0;34m)\u001b[0m\u001b[0;34m,\u001b[0m\u001b[0mn\u001b[0m\u001b[0;34m)\u001b[0m\u001b[0;34m\u001b[0m\u001b[0;34m\u001b[0m\u001b[0m\n\u001b[0m\u001b[1;32m     66\u001b[0m \u001b[0;34m\u001b[0m\u001b[0m\n\u001b[1;32m     67\u001b[0m   \u001b[0mt\u001b[0m \u001b[0;34m=\u001b[0m \u001b[0mrepeat\u001b[0m\u001b[0;34m(\u001b[0m\u001b[0msetup\u001b[0m\u001b[0;34m=\u001b[0m\u001b[0;34m\"from __main__ import radixSort\"\u001b[0m\u001b[0;34m,\u001b[0m \u001b[0mstmt\u001b[0m\u001b[0;34m=\u001b[0m\u001b[0;34mf\"radixSort({a})\"\u001b[0m\u001b[0;34m,\u001b[0m \u001b[0mrepeat\u001b[0m\u001b[0;34m=\u001b[0m\u001b[0;36m1\u001b[0m\u001b[0;34m,\u001b[0m \u001b[0mnumber\u001b[0m\u001b[0;34m=\u001b[0m\u001b[0;36m10\u001b[0m\u001b[0;34m)\u001b[0m\u001b[0;34m\u001b[0m\u001b[0;34m\u001b[0m\u001b[0m\n",
            "\u001b[0;32m/usr/lib/python3.7/random.py\u001b[0m in \u001b[0;36msample\u001b[0;34m(self, population, k)\u001b[0m\n\u001b[1;32m    315\u001b[0m             \u001b[0mpopulation\u001b[0m \u001b[0;34m=\u001b[0m \u001b[0mtuple\u001b[0m\u001b[0;34m(\u001b[0m\u001b[0mpopulation\u001b[0m\u001b[0;34m)\u001b[0m\u001b[0;34m\u001b[0m\u001b[0;34m\u001b[0m\u001b[0m\n\u001b[1;32m    316\u001b[0m         \u001b[0;32mif\u001b[0m \u001b[0;32mnot\u001b[0m \u001b[0misinstance\u001b[0m\u001b[0;34m(\u001b[0m\u001b[0mpopulation\u001b[0m\u001b[0;34m,\u001b[0m \u001b[0m_Sequence\u001b[0m\u001b[0;34m)\u001b[0m\u001b[0;34m:\u001b[0m\u001b[0;34m\u001b[0m\u001b[0;34m\u001b[0m\u001b[0m\n\u001b[0;32m--> 317\u001b[0;31m             \u001b[0;32mraise\u001b[0m \u001b[0mTypeError\u001b[0m\u001b[0;34m(\u001b[0m\u001b[0;34m\"Population must be a sequence or set.  For dicts, use list(d).\"\u001b[0m\u001b[0;34m)\u001b[0m\u001b[0;34m\u001b[0m\u001b[0;34m\u001b[0m\u001b[0m\n\u001b[0m\u001b[1;32m    318\u001b[0m         \u001b[0mrandbelow\u001b[0m \u001b[0;34m=\u001b[0m \u001b[0mself\u001b[0m\u001b[0;34m.\u001b[0m\u001b[0m_randbelow\u001b[0m\u001b[0;34m\u001b[0m\u001b[0;34m\u001b[0m\u001b[0m\n\u001b[1;32m    319\u001b[0m         \u001b[0mn\u001b[0m \u001b[0;34m=\u001b[0m \u001b[0mlen\u001b[0m\u001b[0;34m(\u001b[0m\u001b[0mpopulation\u001b[0m\u001b[0;34m)\u001b[0m\u001b[0;34m\u001b[0m\u001b[0;34m\u001b[0m\u001b[0m\n",
            "\u001b[0;31mTypeError\u001b[0m: Population must be a sequence or set.  For dicts, use list(d)."
          ]
        }
      ]
    }
  ]
}