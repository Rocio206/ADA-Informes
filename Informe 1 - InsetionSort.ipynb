{
  "nbformat": 4,
  "nbformat_minor": 0,
  "metadata": {
    "colab": {
      "name": "InsetionSort",
      "provenance": [],
      "collapsed_sections": [],
      "authorship_tag": "ABX9TyPhnhNgtoLypgmDaf+8u5DK",
      "include_colab_link": true
    },
    "kernelspec": {
      "name": "python3",
      "display_name": "Python 3"
    },
    "language_info": {
      "name": "python"
    }
  },
  "cells": [
    {
      "cell_type": "markdown",
      "metadata": {
        "id": "view-in-github",
        "colab_type": "text"
      },
      "source": [
        "<a href=\"https://colab.research.google.com/github/Rocio206/ADA-Informes/blob/main/Informe%201%20-%20InsetionSort.ipynb\" target=\"_parent\"><img src=\"https://colab.research.google.com/assets/colab-badge.svg\" alt=\"Open In Colab\"/></a>"
      ]
    },
    {
      "cell_type": "markdown",
      "source": [
        "#1. Problema de ordenamiento\n",
        "\n",
        "**Entrada**: Secuencia de n números $[a_1,a_2,...,a_n]$.\n",
        "\n",
        " **Salida**: Permutación ordenada de la secuencia de entrada: $[a_1' ,a_2',...,a_n']$ , de tal manera que $ a_1' ≤a_2'≤...≤a_n'$.\n",
        "\n",
        " Desde los inicios de la computacion los algoritmos de ordenamiento han despertado interes debido al impotante papel que juega el ordenamiento de datos, ya sea como un fin en si o como parte de otros procedimientos mas complejos. Siendo su proposito principal facilitar las busquedas de elementos dentro de un conjunto.\n",
        " \n",
        " Se han diseñado una variedad de algoritmos de ordenamiento que resuelven el problema, siendo uno de ellos InsetionSort. \n",
        " El metodo consiste en tomar cada elemento del arreglo para compararlo con el anterior. Si resulta que el elemento con el que se esta comparando es mayor que el elemento que se esta ordenando entonce intercambian posiciones. Se continua comparando hasta que el elemento ha ordenar encuentra su lugar.\n",
        "\n",
        " # 2. Descripcion del algoritmo\n",
        "\n",
        " Este algoritmo recibe un arreglo **a** con los **n elementos** que se deben ordenar. No se utiliza un arreglo auxilias, sino que se ordenan en el mismo arreglo.\n",
        " 1. En cada iteracion $i$, se compara el elemento en la posicion i con el anterion $(i-1)$. Si $i< (i-1)$ entonces los elemetos intercambian posiciones.\n",
        " 2. Al final se retorna el arreglo ordenado y el numero de iteraciones $T$ e intercambios realizados $C$.\n",
        "\n",
        "\n",
        " # 2.1 Ejemplo\n",
        " Tomando como ejemplo el arreglo :\n",
        "\n",
        " $a = [3,2,1,5]$\n",
        "\n",
        " En la primera iteracion comparamos el 3 y el 2. Como 3 > 2 y no hay mas elementos con los que comparar simplemente se intercambian :\n",
        "\n",
        " $a = [2,3,1,5]$\n",
        "\n",
        " A continuacion comparamos el 3 y el 1. Como 3 > 1 , el 3 pasa al lugar del 1 y continuo comparando:\n",
        "\n",
        " $a = [2,1,3,5]$\n",
        "\n",
        "Como 2 > 1 y no hay mas elementos con los que comparar esto intercambian lugares:\n",
        "\n",
        "$a = [1,2,3,5]$\n",
        "\n",
        "Por ultimo comparamos el 3 y el 5. Ya que 3 < 5 no es necesario hacer nada ya que ya estan ordenados:\n",
        "   \n",
        "$a = [1,2,3,5]$\n",
        "\n",
        "Al no haber mas elemetos, termina el proceso y ya tenemos nuestro arreglo ordenado.\n",
        "\n",
        "\n",
        "# 3. Implementacion\n",
        "\n"
      ],
      "metadata": {
        "id": "2WypsdnREKkZ"
      }
    },
    {
      "cell_type": "code",
      "source": [
        "def insertionSort(a, verbose=False):\n",
        "  n = len(a)\n",
        "  T = 0 #contador de comparaciones\n",
        "  \n",
        "  if verbose == True: print(\"Entrada del arreglo:\",a)\n",
        "  print()\n",
        "\n",
        "  for i in range(1,n):\n",
        "    actual = a[i]\n",
        "    j = i\n",
        "    t=1 #contador del numero de comparaciones durante la iteracion\n",
        "    # nos desplazamos por el arreglo hasta la posicion correcta para el elemento actual\n",
        "    while j > 0  and a[j-1] > actual:\n",
        "      a[j] = a[j-1]\n",
        "      j-= 1\n",
        "      if j > 0 : t+=1\n",
        "    # ingresamos el elemento en su lugar \n",
        "\n",
        "    a[j] = actual\n",
        "    T += t\n",
        "\n",
        "    if verbose == True :\n",
        "       print(\"Iteracion\" ,i,)\n",
        "       print(\"Elemento a ordenar:\" ,actual, \"- Comparaciones necesarias:\", t)\n",
        "       print(\"a :\", a);\n",
        "       print()\n",
        "\n",
        "  if verbose == True: print(\"Se realizaron\",T,\"comparaciones\")\n",
        "\n",
        "  return a, T\n",
        "      \n",
        "# Ejemplo\n",
        "A = [5,4,3,2]\n",
        "print(\"Entrada: \",A)\n",
        "A , counter = insertionSort(A)\n",
        "print(\"Salida: \",A)\n",
        "print(\"# Comparaciones: \", counter)"
      ],
      "metadata": {
        "colab": {
          "base_uri": "https://localhost:8080/"
        },
        "id": "y4a_nnCrVtht",
        "outputId": "a4acc2d2-a378-46d9-ed8f-98afc2529a87"
      },
      "execution_count": 37,
      "outputs": [
        {
          "output_type": "stream",
          "name": "stdout",
          "text": [
            "Entrada:  [5, 4, 3, 2]\n",
            "Entrada del arreglo: [5, 4, 3, 2]\n",
            "\n",
            "Iteracion 1\n",
            "Elemento a ordenar: 4 - Comparaciones necesarias: 1\n",
            "a : [4, 5, 3, 2]\n",
            "\n",
            "Iteracion 2\n",
            "Elemento a ordenar: 3 - Comparaciones necesarias: 2\n",
            "a : [3, 4, 5, 2]\n",
            "\n",
            "Iteracion 3\n",
            "Elemento a ordenar: 2 - Comparaciones necesarias: 3\n",
            "a : [2, 3, 4, 5]\n",
            "\n",
            "Se realizaron 6 comparaciones\n",
            "Salida:  [2, 3, 4, 5]\n",
            "# Comparaciones:  6\n"
          ]
        }
      ]
    },
    {
      "cell_type": "markdown",
      "source": [
        "###3.1 Implementacion del algoritmo paso a paso (**verbose = True)**"
      ],
      "metadata": {
        "id": "bOMHIScVD7zZ"
      }
    },
    {
      "cell_type": "code",
      "source": [
        "def insertionSort(a, verbose=True):\n",
        "  n = len(a)\n",
        "  T = 0 #contador de comparaciones\n",
        "  \n",
        "  if verbose == True: print(\"Entrada del arreglo:\",a)\n",
        "  print()\n",
        "\n",
        "  for i in range(1,n):\n",
        "    actual = a[i]\n",
        "    j = i\n",
        "    t=1 #contador del numero de comparaciones durante la iteracion\n",
        "    # nos desplazamos por el arreglo hasta la posicion correcta para el elemento actual\n",
        "    while j > 0  and a[j-1] > actual:\n",
        "      a[j] = a[j-1]\n",
        "      j-= 1\n",
        "      if j > 0 : t+=1\n",
        "    # ingresamos el elemento en su lugar \n",
        "\n",
        "    a[j] = actual\n",
        "    T += t\n",
        "\n",
        "    if verbose == True :\n",
        "       print(\"Iteracion\" ,i,)\n",
        "       print(\"Elemento a ordenar:\" ,actual, \"- Comparaciones necesarias:\", t)\n",
        "       print(\"a :\", a);\n",
        "       print()\n",
        "\n",
        "  if verbose == True: print(\"Se realizaron\",T,\"comparaciones\")\n",
        "\n",
        "  return a, T\n",
        "      \n",
        "# Ejemplo\n",
        "A = [5,4,3,2]\n",
        "print(\"Entrada: \",A)\n",
        "A , counter = insertionSort(A)\n",
        "print(\"Salida: \",A)\n",
        "print(\"# Comparaciones: \", counter)"
      ],
      "metadata": {
        "colab": {
          "base_uri": "https://localhost:8080/"
        },
        "id": "WrgUAnRvELwV",
        "outputId": "c1db31ce-0fc3-4def-b64e-bd37484a67ac"
      },
      "execution_count": 19,
      "outputs": [
        {
          "output_type": "stream",
          "name": "stdout",
          "text": [
            "Entrada del arreglo: [5, 4, 3, 2, 1]\n",
            "\n",
            "Iteracion 1\n",
            "Elemento a ordenar: 4 - Comparaciones necesarias: 1\n",
            "a : [4, 5, 3, 2, 1]\n",
            "\n",
            "Iteracion 2\n",
            "Elemento a ordenar: 3 - Comparaciones necesarias: 2\n",
            "a : [3, 4, 5, 2, 1]\n",
            "\n",
            "Iteracion 3\n",
            "Elemento a ordenar: 2 - Comparaciones necesarias: 3\n",
            "a : [2, 3, 4, 5, 1]\n",
            "\n",
            "Iteracion 4\n",
            "Elemento a ordenar: 1 - Comparaciones necesarias: 4\n",
            "a : [1, 2, 3, 4, 5]\n",
            "\n",
            "Se realizaron 10 comparaciones\n",
            "Salida:  [1, 2, 3, 4, 5]\n"
          ]
        }
      ]
    },
    {
      "cell_type": "markdown",
      "source": [
        "\n",
        "\n",
        "#4. Propiedades de InsetionSort\n",
        " InsertionSort como dice en su nombre, es un **algoritmo de insecion**. En este tipo de algoritmo los elementos ha ser ordenados se consideran **una sola vez**. Cada elemento es insetado en su posicion correspondiente con respecto a los elementos previamente ordenados.\n",
        "\n",
        "## 4.1 Tiempo de ejecucion \n",
        "### Teorema (Tiempo de ejecucion)\n",
        "\n",
        "> El algoritmo InsetionSort, en el peor de los casos, tiene un tiempo de ejecucion de $O(n^2)$.\n",
        "\n",
        "### Prueba del teorema \n",
        "\n",
        "Se puede inferir facilmente al ver el ejemplo que el caso menos favorable se da cuando los elementos de el arreglo estan en orden inverso, osea de mayor a menor, ya que se necesitan realizar $(n-1) + (n-2) + (n-3) ...+ 1$ o $(n2-n) / 2$. Por lo que la complejidad es de $O(n)$.\n",
        "\n",
        "#4.2 Correctitud\n",
        "### Teorema (Correcititud)\n",
        "El algoritmo InsertionSort recibe un arreglo: $[a_1,a_2,...,a_n]$, para luego retornar un arreglo con los mismos elementos de entrada ordenados de menor a mayor, es decir,  $ a_1' ≤a_2'≤...≤a_n'$.\n",
        "\n",
        "### Prueba del teorema\n",
        "Como observamos previamente, en cada iteracion se ordena un nuevo elemento del arreglo.\n",
        "Por eso probaremos la siguiente **propiedad invariante de bucle** para InsertionSort:\n",
        "\n",
        "\n",
        "> Al comienzo de cada iteracion $i$ los elementos anteriores del arreglo $a[0...i-1]$ estan ordenados de menor a mayor.\n",
        "\n",
        "**Inicializacion**\n",
        "En la primera iteracion i=1, $a[0...i-1]$ solo cuenta con un elemento por lo que pordriamos decir que esta ordenado, cumpliendo con la propieda.\n",
        "\n",
        "**Mantencion**\n",
        "Durante cada iteracion se toma un nuevo elemento, se busca su posicion correspondiente con respecto a los elementes anteriores y se introduce en tal posicion.\n",
        "\n",
        "\n",
        "![image](https://imgur.com/RL0HV9P.png)\n",
        "\n",
        "\n",
        "Por lo que de esta forma es muy facil deducir que la propiedad siempre se cumple en cada iteracion.\n",
        "\n",
        "**Correctitud**\n",
        "\n",
        "Por ultimo, como la propiedad de bucle invariante se cumple al incio del bucle y se mantiene en cada iteración, podemos decir que al finalizar la n-ésima iteración, el arreglo  $[a_1,a_2,...,a_n]$ , contendra los mismos elementos del arreglo de entrada pero estaran ordenados de menor a mayor.\n"
      ],
      "metadata": {
        "id": "o3LRsIpTx6HC"
      }
    },
    {
      "cell_type": "markdown",
      "source": [
        "#5. Experimentos\n",
        "### 5.1 Numero de comparaciones\n",
        "\n",
        "A continuación se muestra gráficamente una comparación entre:\n",
        "\n",
        "* cantidad de comparaciones del peor caso calculadas matemáticamente,\n",
        "* cantidad de comparaciones del mejor caso calculadas matemáticamente (n-1 comparaciones si el arreglo está ordenado)\n",
        "* cantidad de comparaciones realizadas experimentalmente para entradas aleatorias\n",
        "\n",
        "para tamaños de problemas con  $n∈[5,19]$ .\n",
        "\n",
        "Los arreglos de entrada son generados aleatoriamente haciendo un sampling de un conjunto de números entre 1 y 100."
      ],
      "metadata": {
        "id": "t_Jzqtmalqt-"
      }
    },
    {
      "cell_type": "code",
      "source": [
        "import matplotlib.pyplot as plt\n",
        "import random\n",
        "\n",
        "def insertionSort(a, verbose=False):\n",
        "  n = len(a)\n",
        "  T = 0\n",
        "  if verbose == True: print(\"Entrada del arreglo:\",a)\n",
        "  for i in range(1,n):\n",
        "    actual = a[i]\n",
        "    j = i      \n",
        "    while j > 0  and a[j-1] > actual:\n",
        "      a[j] = a[j-1]\n",
        "      j-= 1\n",
        "      T+=1 \n",
        "    if j != 0 : T+=1\n",
        "    a[j] = actual\n",
        "  return a, T\n",
        "\n",
        "x=[n for n in range(5,20)] \n",
        "y1=[n*(n-1)/2 for n in range(5,20)] # worst case\n",
        "y2=[n-1 for n in range(5,20)] # best case\n",
        "y=[]; \n",
        "\n",
        "for n in range(5,20):\n",
        "  a = random.sample(range(1, 100), n)\n",
        "  a,counter = insertionSort(a)\n",
        "  y.append(counter)\n",
        "\n",
        "plt.plot(x,y)\n",
        "plt.plot(x,y1)\n",
        "plt.plot(x,y2)\n",
        "plt.legend([\"InsertionSort\", \" worst case\", \"best case\"])\n",
        "\n",
        "plt.xlabel('n')\n",
        "plt.ylabel('number of operations')\n",
        "plt.show()"
      ],
      "metadata": {
        "colab": {
          "base_uri": "https://localhost:8080/",
          "height": 279
        },
        "id": "a_vf7YW846sA",
        "outputId": "2acfa07f-d30e-4949-d459-80ba80ed98e7"
      },
      "execution_count": 7,
      "outputs": [
        {
          "output_type": "display_data",
          "data": {
            "text/plain": [
              "<Figure size 432x288 with 1 Axes>"
            ],
            "image/png": "[encoded data removed]"
          },
          "metadata": {
            "needs_background": "light"
          }
        }
      ]
    },
    {
      "cell_type": "markdown",
      "source": [
        "###Analisis de resultados\n",
        "Podemos observar como el tiempo de ejecución en el peor de los casos se comporta de forma cuadratica. Mientras que en el caso empírico se mueve entre el mejor y el peor caso teorico de forma bastante imparcial.\n",
        "\n",
        "\n",
        "### 5.2 Tiempo de ejecucion\n",
        "####Grafico compararativo InsertionSort vs BubbleSort\n",
        "El siguiente gráfico muestra tiempo de ejecución del algoritmo BubbleSort comparado al de el de InsertionSort, en función del tamaño del problema para arreglos generados aleatoriamente de tamaños entre  5 y 500 ."
      ],
      "metadata": {
        "id": "g1DvqiIRHFrP"
      }
    },
    {
      "cell_type": "code",
      "source": [
        "import matplotlib.pyplot as plt\n",
        "import datetime\n",
        "from timeit import repeat\n",
        "import random\n",
        "\n",
        "def insertionSort(a, verbose=False):\n",
        "  n = len(a)\n",
        "  T = 0\n",
        "  if verbose == True: print(\"Entrada del arreglo:\",a)\n",
        "  for i in range(1,n):\n",
        "    actual = a[i]\n",
        "    j = i\n",
        "    # nos desplazamos por el arreglo hasta la posicion correcta para el elemento actual\n",
        "    while j > 0  and a[j-1] > actual:\n",
        "      a[j] = a[j-1]\n",
        "      j-= 1\n",
        "      T+=1 \n",
        "    if j != 0 : T+=1\n",
        "    a[j] = actual\n",
        "  return a, T\n",
        "\n",
        "def bubble_sort(a, verbose=False):\n",
        "    n = len(a)\n",
        "    T = 0 #contador de comparaciones\n",
        "\n",
        "    if verbose == True: print(\"input array:\",a)\n",
        "\n",
        "    for i in range(1,n+1):\n",
        "        if verbose == True: print(\"\\nPasada\",i)\n",
        "        # Flag que indica si el arreglo ya se encuentra ordenado\n",
        "        already_sorted = True\n",
        "\n",
        "        # Se recorre el arreglo\n",
        "        for j in range(n - i):\n",
        "            T +=1\n",
        "            if a[j] > a[j + 1]:\n",
        "                # Si el elemento es mayor al siguiente se intercambia\n",
        "                a[j], a[j + 1] = a[j + 1], a[j]\n",
        "                if verbose == True: \n",
        "                  print(str(a[:j])[1:-1],\",\",colored(f\"{str(a[j:j+2])[1:-1]}\",\"red\"),\",\",str(a[j+2:])[1:-1])\n",
        "\n",
        "                already_sorted = False\n",
        "\n",
        "        if already_sorted == False and verbose == True: \n",
        "           print(\"\\nAl finalizar pasada:\")\n",
        "           print(str(a[:n-i])[1:-1],\",\",colored(f\"{str(a[n-i:])[1:-1]}\",\"blue\"))\n",
        "\n",
        "        if already_sorted:\n",
        "            if verbose == True: print(\"is sorted!\")\n",
        "            break\n",
        "\n",
        "    if verbose == True: print(\"\\noutput array:\",a)\n",
        "\n",
        "    return a, T\n",
        "\n",
        "x=[]; y=[]; y2=[]\n",
        "\n",
        "for n in range(5,500):\n",
        "\n",
        "  a = random.sample(range(1, 1000), n)\n",
        "\n",
        "  #la función repeat está ejecutando 20 veces bubble_sort con el arreglo a y retorna el mejor tiepo obtenido.\n",
        "  t = repeat(setup=\"from __main__ import bubble_sort\", stmt=f\"bubble_sort({a})\", repeat=1, number=10)\n",
        "  t2 = repeat(setup=\"from __main__ import insertionSort\", stmt=f\"insertionSort({a})\", repeat=1, number=10)\n",
        "\n",
        "  x.append(n)\n",
        "  y.append(t)\n",
        "  y2.append(t2)\n",
        "\n",
        "\n",
        "plt.plot(x,y)\n",
        "plt.plot(x,y2)\n",
        "plt.legend([\"BubbleSort\",\"InsertionSort\"])\n",
        "\n",
        "plt.xlabel('n')\n",
        "plt.ylabel('time in ms')\n",
        "plt.show()"
      ],
      "metadata": {
        "colab": {
          "base_uri": "https://localhost:8080/",
          "height": 279
        },
        "id": "3RqnqZI3IpZM",
        "outputId": "a73b5cc5-2e3e-4b46-f134-0952b50d8e39"
      },
      "execution_count": 44,
      "outputs": [
        {
          "output_type": "display_data",
          "data": {
            "text/plain": [
              "<Figure size 432x288 with 1 Axes>"
            ],
            "image/png": "[encoded data removed]"
          },
          "metadata": {
            "needs_background": "light"
          }
        }
      ]
    },
    {
      "cell_type": "markdown",
      "source": [
        "### Analisis de resultados\n",
        "\n",
        "Al observar los resultados, se puede apreciar como en ambos algoritmos el tiempo de ejecucion se comporta de manera cuatratica en funcion al tamaño del problema. Sin embargo, el BubbleSort es notablemente mas lento en comparacion al InsertionSort."
      ],
      "metadata": {
        "id": "6Txp4IME7_c7"
      }
    }
  ]
}