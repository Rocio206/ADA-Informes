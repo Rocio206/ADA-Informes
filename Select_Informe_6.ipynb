{
  "nbformat": 4,
  "nbformat_minor": 0,
  "metadata": {
    "colab": {
      "provenance": [],
      "authorship_tag": "ABX9TyO4GFfI04FtqKIJW0NrL+Gk",
      "include_colab_link": true
    },
    "kernelspec": {
      "name": "python3",
      "display_name": "Python 3"
    },
    "language_info": {
      "name": "python"
    }
  },
  "cells": [
    {
      "cell_type": "markdown",
      "metadata": {
        "id": "view-in-github",
        "colab_type": "text"
      },
      "source": [
        "<a href=\"https://colab.research.google.com/github/Rocio206/ADA-Informes/blob/main/Select_Informe_6.ipynb\" target=\"_parent\"><img src=\"https://colab.research.google.com/assets/colab-badge.svg\" alt=\"Open In Colab\"/></a>"
      ]
    },
    {
      "cell_type": "markdown",
      "source": [
        "# Problema de Selección (estadísticos de orden)\n",
        "\n",
        "En ciencias de la computación, un algoritmo de selección es un algoritmo para encontrar el k-ésimo menor número en una lista o arreglo; a este número se le llama estadístico de orden k.\n",
        "\n",
        "El algoritmo **Select** se presenta como una forma de resolver el siguiente problema:\n",
        "\n",
        "> **Entrada:** Conjunto de **$n$** números diferentes **$A[1,...,n]$**, más un índice $i ∈ $ { $1, . . . , n$ }.\n",
        "\n",
        "\n",
        "> **Salida:** Elemento $x ∈ A$, que es exactamente mayor a $i-1$ elementos de $A$.\n",
        "\n",
        "Donde el elemento $x$ corresponde al **estadístico de orden $i$** para el conjunto $A$.\n",
        "\n"
      ],
      "metadata": {
        "id": "ZpI6c9Sh0Ytp"
      }
    },
    {
      "cell_type": "markdown",
      "source": [
        "#Implementación \n",
        "\n",
        "##**Función PivotSelection**\n",
        "**Entrada:** Conjunto de **$n$** números diferentes **$A[1,...,n]$**, más un índice $i ∈ $ { $1, . . . , n$ }.\n",
        "\n",
        "**Salida:** El elemento  $m ∈ A$, correspondiente a la mediana de las medianas de $n/5$ subconjuntos de A.\n",
        "\n",
        "La función realiza lo siguiente:\n",
        "\n",
        "\n",
        "1.   Divide los $n$ elementos de la entrada en $n/5$ grupos de hasta 5 elementos cada uno.\n",
        "\n",
        "2.   Calcula la mediana de cada grupo usando **InsertionSort** y la agrega a un arreglo $M[1,..., \\frac{n}{5}]$.\n",
        "\n",
        "3.  De forma recursiva calcula la mediana de $M$.\n",
        "\n",
        "\n",
        "![image](https://imagizer.imageshack.com/v2/640x480q90/924/PuP8BT.png)\n",
        "\n",
        "\n",
        "###**Código** \n",
        "El siguiente código muestra una implementación de la función **PivoteSelection.**"
      ],
      "metadata": {
        "id": "J342QoGrP4AN"
      }
    },
    {
      "cell_type": "code",
      "source": [
        "import random\n",
        "\n",
        "def InsertionSort(A, p, r):\n",
        "  for j in range(p + 1, r + 1):\n",
        "    actual = A[j]\n",
        "    i = j - 1 \n",
        "    while i >= p  and A[i] > actual:\n",
        "      A[i + 1] = A[i]\n",
        "      i -= 1 \n",
        "    A[i+1] = actual\n",
        "\n",
        "def PivotSelection(A, p, r, i):\n",
        "  if r - p + 1  <= 5:\n",
        "    InsertionSort(A, p, r)\n",
        "    return A[i]\n",
        "\n",
        "  n_grups = (r-p+1)//5      \n",
        "  M = [0] * n_grups\n",
        " \n",
        "  for j in range(0, n_grups):\n",
        "    u = p + 5 * j + 4\n",
        "    if r < u: u = r\n",
        "\n",
        "    print(\"# Iteracion:\", j+1)\n",
        "    print(\"Subconjunto:\", A[p+5*j:u+1])\n",
        "    InsertionSort(A, p + 5 * j, u)\n",
        "    M[j] = A[((p + 5 * j + u)//2)]\n",
        "    print(\"Mediana =\", M[j])\n",
        "    print()\n",
        "\n",
        "  print(\"M =\", M)\n",
        "  return PivotSelection(M, 0, n_grups -1, n_grups//2)\n",
        "\n",
        "#Ejemplo\n",
        "\n",
        "M = random.sample(range(1,100), 21)\n",
        "\n",
        "print(\"Entrada :\", M)\n",
        "print()\n",
        "pivote = PivotSelection(M, 0, 20, 1)\n",
        "print()\n",
        "print(\"Salida :\", pivote)"
      ],
      "metadata": {
        "colab": {
          "base_uri": "https://localhost:8080/"
        },
        "id": "Ul5Riui-1B1z",
        "outputId": "ea53af4e-5b1a-4fb0-bd86-151139c2ead2"
      },
      "execution_count": 7,
      "outputs": [
        {
          "output_type": "stream",
          "name": "stdout",
          "text": [
            "Entrada : [28, 72, 73, 32, 45, 78, 9, 83, 91, 15, 61, 65, 56, 42, 31, 88, 79, 2, 87, 93, 54]\n",
            "\n",
            "# Iteracion: 1\n",
            "Subconjunto: [28, 72, 73, 32, 45]\n",
            "Mediana = 45\n",
            "\n",
            "# Iteracion: 2\n",
            "Subconjunto: [78, 9, 83, 91, 15]\n",
            "Mediana = 78\n",
            "\n",
            "# Iteracion: 3\n",
            "Subconjunto: [61, 65, 56, 42, 31]\n",
            "Mediana = 56\n",
            "\n",
            "# Iteracion: 4\n",
            "Subconjunto: [88, 79, 2, 87, 93]\n",
            "Mediana = 87\n",
            "\n",
            "M = [45, 78, 56, 87]\n",
            "\n",
            "Salida : 78\n"
          ]
        }
      ]
    },
    {
      "cell_type": "markdown",
      "source": [
        "##**Algoritmo Select**\n",
        "\n",
        "Select es un algoritmo de selección que, similar al algoritmo de ordenamiento QuickSort, **realiza particiones para dividir  el problema**; excepto que hace la recursión sobre un solo lado de la partición. \n",
        "\n",
        "Utiliza una versión de **Partition** al cual se le pasa el\n",
        "elemento pivote, junto a la **función PivotSelection** para garantizar que las particiones sobre el arreglo sea **siempre balanceadas**.\n",
        "\n",
        "\n",
        "> **Entrada:** Conjunto de **$n$** números diferentes **$A[1,...,n]$**, más un índice $i ∈ $ { $1, . . . , n$ }.\n",
        "\n",
        "\n",
        "> **Salida:** Elemento $x ∈ A$, que es mayor a exactamente $i-1$ elementos de $A$.\n",
        "\n",
        "\n",
        "**Select realiza lo siguiente:**\n",
        "\n",
        "1.   Utiliza la función PivotSelection para seleccionar un **pivote** adecuado para particionar los elementos de entrada, garantizando una **particion balanceada**.\n",
        "2.   Comprueba si el indice del pivote luego de **Partition** ($q$) es el índice buscado, de lo contrario, continua buscando **recurcivamente** sobre el subproblema correspondiente .\n",
        "\n",
        "###**Código**\n",
        "\n",
        "El código a continuacion muestra un implementación del **algoritmo Select.**\n"
      ],
      "metadata": {
        "id": "o1QrVHLHA4QT"
      }
    },
    {
      "cell_type": "code",
      "execution_count": 2,
      "metadata": {
        "id": "HCzkGoKq0YCL",
        "colab": {
          "base_uri": "https://localhost:8080/"
        },
        "outputId": "8ecd1af1-4701-4ed5-9dd4-d8fc1ac91bec"
      },
      "outputs": [
        {
          "output_type": "stream",
          "name": "stdout",
          "text": [
            "EJEMPLO\n",
            "Arreglo: [54, 6, 8, 30, 60, 2, 74, 96, 78, 98, 97, 46, 62, 77]\n",
            "Estadistico de orden: 13\n",
            "\n",
            "Entrada Select : [54, 6, 8, 30, 60, 2, 74, 96, 78, 98, 97, 46, 62, 77] i = 12\n",
            "\n",
            "Pivote : 78\n",
            "Patition: [6, 8, 30, 54, 60, 2, 74, 46, 62, 77, 78, 97, 96, 98]\n",
            "Entrada Select : [97, 96, 98] i = 1\n",
            "\n",
            "Salida : 8\n"
          ]
        }
      ],
      "source": [
        "def InsertionSort(A, p, r):\n",
        "  for j in range(p + 1, r + 1):\n",
        "    actual = A[j]\n",
        "    i = j - 1 \n",
        "    while i >= p  and A[i] > actual:\n",
        "      A[i + 1] = A[i]\n",
        "      i -= 1 \n",
        "    A[i+1] = actual\n",
        "\n",
        "def PivotSelection(A, p, r, i):\n",
        "  if r - p + 1  <= 5:\n",
        "    InsertionSort(A, p, r)\n",
        "    return A[i]\n",
        "\n",
        "  n_grups = (r-p+1)//5      \n",
        "  M = [0] * n_grups\n",
        " \n",
        "  for j in range(0, n_grups):\n",
        "    u = p + 5 * j + 4\n",
        "    if r < u: u = r\n",
        "    InsertionSort(A, p + 5 * j, u)\n",
        "    M[j] = A[((p + 5 * j + u)//2)]\n",
        "  \n",
        "  return PivotSelection(M, 0, n_grups -1, n_grups//2)\n",
        "\n",
        "def Partition(A, p, r, x):\n",
        "  i = p - 1\n",
        "  for k in range(p, r + 1):\n",
        "    if A[k] < x:\n",
        "      i += 1\n",
        "      A[i], A[k] = A[k], A[i]\n",
        "\n",
        "  i += 1\n",
        "  for m in range(i, r):\n",
        "    if A[m] == x: \n",
        "      A[i], A[m] = A[m], A[i]\n",
        "      break\n",
        "  return i\n",
        "\n",
        "def Select(A, p , r, i, verbose=True):\n",
        "  if verbose == True:\n",
        "    print(\"Entrada Select :\",A[p:r+1] ,\"i =\", i)\n",
        "    print()\n",
        "\n",
        "  if r - p + 1  <= 5:    ##caso base\n",
        "    InsertionSort(A, p, r)\n",
        "    return A[i]\n",
        "\n",
        "  x =  PivotSelection(A, p, r, i)\n",
        "\n",
        "  if verbose == True: \n",
        "    print(\"Pivote :\",x)\n",
        "\n",
        "  q = Partition(A, p, r, x)\n",
        "\n",
        "  if verbose == True: print(\"Patition:\", A)\n",
        "\n",
        "  k = q - p + 1\n",
        "  if i == k:\n",
        "    return A[q]\n",
        "  elif i < k:\n",
        "    return Select(A, p, q-1, i)\n",
        "  else:\n",
        "    return Select(A, q+1, r, i-k)\n",
        "\n",
        "print(\"EJEMPLO\")\n",
        "\n",
        "A = [54, 6, 8, 30, 60, 2, 74, 96, 78, 98, 97, 46, 62, 77]\n",
        "E_orden = random.randint(1, len(A))\n",
        "print(\"Arreglo:\" , A)\n",
        "print(\"Estadistico de orden:\", E_orden)\n",
        "print()\n",
        "h = Select(A, 0, len(A) - 1, E_orden - 1)\n",
        "\n",
        "print(\"Salida :\",h)"
      ]
    },
    {
      "cell_type": "markdown",
      "source": [
        "#Correctitud del algoritmo Select\n",
        "\n",
        "Demostración por inducción en el tamaño $n$. **Se asume que todos los elementos son distintos.**\n",
        "\n",
        "> **Caso** $n \\leq 5$ : Se ordena el arreglo , entonces el $i$-ésimo es $A[i]$.\n",
        "\n",
        "\n",
        "> **Caso $n > 5$** : **PivoteSelection** reordena $A$ y retorna el pivote $q$, tal que $A[j] < A[q] < A[k]$ para todo $j$ y $k$ con $p \\leq j < q < k \\leq r$.\n",
        "\n",
        "Para $k = q - p + 1$, tenemos que:\n",
        "\n",
        "*   El $k$-ésimo de $A[p,...,r]$ es $A[q]$.\n",
        "\n",
        "*   Si $i < k$, el $i$-ésimo de $A[p,...,r]$ es el $i$-ésimo de $A[p...q-1]$.\n",
        "\n",
        "*   Si $i> k $, el $i$-ésimo de $A[p,...,r]$ es el $(i-k)$-ésimo de $A[p...q-1]$.\n",
        "\n",
        "Entonces, por HI, el algoritmo **Select es correcto**.\n"
      ],
      "metadata": {
        "id": "pvAPjJGZMqAi"
      }
    },
    {
      "cell_type": "markdown",
      "source": [
        "#Analisis del tiempo de ejecución\n",
        "\n",
        "##**Peor caso**\n",
        "\n",
        "> **Acotamos el número de elementos mayores estrictos al pivote $x$**:\n",
        "\n",
        "Como los elementos son distintos, la mitad de las medias son $≥ x$. Por lo tanto, la mitad de los grupos contribuyen 3 elementos **mayores estrictos** a $x$ excepto:\n",
        "\n",
        "1.   El grupo al que pertenece $x$\n",
        "2.   El último grupo que puede tener menos de 5 elementos (cuando $n$ no es divisibel por 5)\n",
        "\n",
        "El número de elementos **mayores estrictos** a $x$ es al menos:\n",
        "\n",
        "> ## $3([\\frac{1}{2}[\\frac{n}{5}]-2] ≥ \\frac{3n}{10}-6 $\n",
        "\n",
        "\n",
        "El número de elementos **menores estrictos** a $x$ en $n$ menos el número de elementos mayores a $x - 1$. Este numero es como maximo:\n",
        "\n",
        "\n",
        "> ## $n - (\\frac{3n}{10}-6) -1 = \\frac{7n}{10} +6 -1 = \\frac{7n}{10}+5$\n",
        "\n",
        "De forma similar se muestra que ele numero de leemnetos mayores estrictos a $x$ es a lo sumo $\\frac{7n}{10}+5$\n",
        "\n",
        "Debido a esto, **segunda recursión** es sobre un arreglo de tamaño menor o igual a $\\frac{7n}{10}+5$\n",
        "\n",
        "La **primera recursión** (para calcular la media de la medias) es siempre sobre un arreglo de tamaño $\\frac{n}{5}$\n",
        "\n",
        "Asuminedo que $T(n)$ es una funcion monotona, obtenemos:\n",
        "\n",
        "**Caso base:** $O(1)$   **; si $n< 5$**\n",
        "\n",
        "\n",
        "> ## $T(n) \\leq T(\\frac{n}{5}) + T(\\frac{7n}{10}+5) + O(n)$  **; si $n≥5$**\n",
        "Donde el término $O(n)$ contabiliza todos los tiempos excepto las dos recurciones.\n",
        "\n",
        "Para terminar demostramos que $T(n) \\leq cn$, sea $c$ una constante, tal que $T(n) \\leq cn$ para todo $n < 5$ y $a$ la constante para el término $O(n)$ para todo $n>0$.\n",
        "\n",
        "\n",
        "\n",
        "$T(n) \\leq T(\\frac{n}{5}) + T(\\frac{7n}{10}+5) + O(n)$.\n",
        "\n",
        "$\\leq c(\\frac{n}{5}) + c(\\frac{7n}{10}+5) + an$\n",
        "\n",
        "$\\leq c(\\frac{n}{5}+1) + c(\\frac{7n}{10}+6) + an$\n",
        "\n",
        "$ = c(\\frac{9n}{10}+7)+an$\n",
        "\n",
        "$ = cn-(\\frac{cn}{10} -7c - an)$\n",
        "\n",
        "De esta forma se verifica $\\frac{cn}{10} -7c - an ≥ 0$ y entonces $T(n) \\leq cn$ para todo $n$."
      ],
      "metadata": {
        "id": "kAfMsWvZUe9e"
      }
    },
    {
      "cell_type": "markdown",
      "source": [
        "#Experimentos y Analisis\n",
        "\n",
        "##**Número de comparaciones**\n",
        "comparar el número de comparaciones realizadas experimentalmente con el mejor y peor caso teóricos."
      ],
      "metadata": {
        "id": "BAr5zsrd-7YJ"
      }
    },
    {
      "cell_type": "markdown",
      "source": [
        "##**Select vs Randomized-Select**\n",
        "\n",
        "El algoritmo **Randomized-Select** es la contraparte **no determinista** (randomizado) de **Select** con tiempo de ejecucion esperado lineal para cualquier entrada (de elementos distintos).\n",
        "\n",
        "Sin asumir nada particular sobre los elementos, podemos hacer\n",
        "selección en tiempo lineal **sin necesidad de ordenar los elementos**.\n",
        "\n",
        "**Randomized-Select** es un algoritmo simple pero su análisis es\n",
        "complejo.\n",
        "\n",
        "**Select** es un algoritmo complejo pero su análisis es más simple"
      ],
      "metadata": {
        "id": "V-KOvgEX_xeA"
      }
    },
    {
      "cell_type": "code",
      "source": [
        "import random\n",
        "\n",
        "def RandomizedPartition(A, p, r):\n",
        "  x = random.randint(p,r)\n",
        "  return Partition(A, p, r, A[x])\n",
        "\n",
        "def RandomizedSelect(A, p, r, i):\n",
        "  if p == r: return A[p]\n",
        "  q = RandomizedPartition(A, p, r)\n",
        "  k = q - p + 1 \n",
        "  if i == k : \n",
        "    return A[q]\n",
        "  elif i<k: \n",
        "    return RandomizedSelect(A, p, q-1, i)\n",
        "  else:\n",
        "    return RandomizedSelect(A, q+1, r, i-k)\n",
        "\n",
        "\n",
        "\n",
        "\n"
      ],
      "metadata": {
        "id": "IekQFHcMB7Js"
      },
      "execution_count": null,
      "outputs": []
    },
    {
      "cell_type": "markdown",
      "source": [],
      "metadata": {
        "id": "RhhwXcZJBwZw"
      }
    }
  ]
}